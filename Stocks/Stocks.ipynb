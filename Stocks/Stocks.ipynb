{
 "cells": [
  {
   "cell_type": "code",
   "execution_count": 1,
   "metadata": {
    "collapsed": true
   },
   "outputs": [],
   "source": [
    "import pandas as pd\n",
    "import numpy as np\n",
    "import os\n",
    "import time\n",
    "from random import randint\n",
    "import re\n",
    "import time\n",
    "import requests"
   ]
  },
  {
   "cell_type": "markdown",
   "metadata": {},
   "source": [
    "## Get Financial data for S&P 500 stocks for the past 10 years"
   ]
  },
  {
   "cell_type": "code",
   "execution_count": 2,
   "metadata": {
    "scrolled": true
   },
   "outputs": [
    {
     "name": "stdout",
     "output_type": "stream",
     "text": [
      "['MMM', 'ABT', 'ABBV', 'ACN', 'ATVI', 'AYI', 'ADBE', 'AMD', 'AAP', 'AES', 'AET', 'AMG', 'AFL', 'A', 'APD', 'AKAM', 'ALK', 'ALB', 'ARE', 'ALXN', 'ALGN', 'ALLE', 'AGN', 'ADS', 'LNT', 'ALL', 'GOOGL', 'GOOG', 'MO', 'AMZN', 'AEE', 'AAL', 'AEP', 'AXP', 'AIG', 'AMT', 'AWK', 'AMP', 'ABC', 'AME', 'AMGN', 'APH', 'APC', 'ADI', 'ANDV', 'ANSS', 'ANTM', 'AON', 'AOS', 'APA', 'AIV', 'AAPL', 'AMAT', 'APTV', 'ADM', 'ARNC', 'AJG', 'AIZ', 'T', 'ADSK', 'ADP', 'AZO', 'AVB', 'AVY', 'BHGE', 'BLL', 'BAC', 'BK', 'BAX', 'BBT', 'BDX', 'BRKB', 'BBY', 'BIIB', 'BLK', 'HRB', 'BA', 'BWA', 'BXP', 'BSX', 'BHF', 'BMY', 'AVGO', 'BFB', 'CHRW', 'CA', 'COG', 'CDNS', 'CPB', 'COF', 'CAH', 'CBOE', 'KMX', 'CCL', 'CAT', 'CBG', 'CBS', 'CELG', 'CNC', 'CNP', 'CTL', 'CERN', 'CF', 'SCHW', 'CHTR', 'CHK', 'CVX', 'CMG', 'CB', 'CHD', 'CI', 'XEC', 'CINF', 'CTAS', 'CSCO', 'C', 'CFG', 'CTXS', 'CLX', 'CME', 'CMS', 'KO', 'CTSH', 'CL', 'CMCSA', 'CMA', 'CAG', 'CXO', 'COP', 'ED', 'STZ', 'COO', 'GLW', 'COST', 'COTY', 'CCI', 'CSRA', 'CSX', 'CMI', 'CVS', 'DHI', 'DHR', 'DRI', 'DVA', 'DE', 'DAL', 'XRAY', 'DVN', 'DLR', 'DFS', 'DISCA', 'DISCK', 'DISH', 'DG', 'DLTR', 'D', 'DOV', 'DWDP', 'DPS', 'DTE', 'DRE', 'DUK', 'DXC', 'ETFC', 'EMN', 'ETN', 'EBAY', 'ECL', 'EIX', 'EW', 'EA', 'EMR', 'ETR', 'EVHC', 'EOG', 'EQT', 'EFX', 'EQIX', 'EQR', 'ESS', 'EL', 'ES', 'RE', 'EXC', 'EXPE', 'EXPD', 'ESRX', 'EXR', 'XOM', 'FFIV', 'FB', 'FAST', 'FRT', 'FDX', 'FIS', 'FITB', 'FE', 'FISV', 'FLIR', 'FLS', 'FLR', 'FMC', 'FL', 'F', 'FTV', 'FBHS', 'BEN', 'FCX', 'GPS', 'GRMN', 'IT', 'GD', 'GE', 'GGP', 'GIS', 'GM', 'GPC', 'GILD', 'GPN', 'GS', 'GT', 'GWW', 'HAL', 'HBI', 'HOG', 'HRS', 'HIG', 'HAS', 'HCA', 'HCP', 'HP', 'HSIC', 'HSY', 'HES', 'HPE', 'HLT', 'HOLX', 'HD', 'HON', 'HRL', 'HST', 'HPQ', 'HUM', 'HBAN', 'HII', 'IDXX', 'INFO', 'ITW', 'ILMN', 'IR', 'INTC', 'ICE', 'IBM', 'INCY', 'IP', 'IPG', 'IFF', 'INTU', 'ISRG', 'IVZ', 'IQV', 'IRM', 'JEC', 'JBHT', 'SJM', 'JNJ', 'JCI', 'JPM', 'JNPR', 'KSU', 'K', 'KEY', 'KMB', 'KIM', 'KMI', 'KLAC', 'KSS', 'KHC', 'KR', 'LB', 'LLL', 'LH', 'LRCX', 'LEG', 'LEN', 'LUK', 'LLY', 'LNC', 'LKQ', 'LMT', 'L', 'LOW', 'LYB', 'MTB', 'MAC', 'M', 'MRO', 'MPC', 'MAR', 'MMC', 'MLM', 'MAS', 'MA', 'MAT', 'MKC', 'MCD', 'MCK', 'MDT', 'MRK', 'MET', 'MTD', 'MGM', 'KORS', 'MCHP', 'MU', 'MSFT', 'MAA', 'MHK', 'TAP', 'MDLZ', 'MON', 'MNST', 'MCO', 'MS', 'MOS', 'MSI', 'MYL', 'NDAQ', 'NOV', 'NAVI', 'NTAP', 'NFLX', 'NWL', 'NFX', 'NEM', 'NWSA', 'NWS', 'NEE', 'NLSN', 'NKE', 'NI', 'NBL', 'JWN', 'NSC', 'NTRS', 'NOC', 'NCLH', 'NRG', 'NUE', 'NVDA', 'ORLY', 'OXY', 'OMC', 'OKE', 'ORCL', 'PCAR', 'PKG', 'PH', 'PDCO', 'PAYX', 'PYPL', 'PNR', 'PBCT', 'PEP', 'PKI', 'PRGO', 'PFE', 'PCG', 'PM', 'PSX', 'PNW', 'PXD', 'PNC', 'RL', 'PPG', 'PPL', 'PX', 'PCLN', 'PFG', 'PG', 'PGR', 'PLD', 'PRU', 'PEG', 'PSA', 'PHM', 'PVH', 'QRVO', 'PWR', 'QCOM', 'DGX', 'RRC', 'RJF', 'RTN', 'O', 'RHT', 'REG', 'REGN', 'RF', 'RSG', 'RMD', 'RHI', 'ROK', 'COL', 'ROP', 'ROST', 'RCL', 'CRM', 'SBAC', 'SCG', 'SLB', 'SNI', 'STX', 'SEE', 'SRE', 'SHW', 'SIG', 'SPG', 'SWKS', 'SLG', 'SNA', 'SO', 'LUV', 'SPGI', 'SWK', 'SBUX', 'STT', 'SRCL', 'SYK', 'STI', 'SYMC', 'SYF', 'SNPS', 'SYY', 'TROW', 'TPR', 'TGT', 'TEL', 'FTI', 'TXN', 'TXT', 'TMO', 'TIF', 'TWX', 'TJX', 'TMK', 'TSS', 'TSCO', 'TDG', 'TRV', 'TRIP', 'FOXA', 'FOX', 'TSN', 'UDR', 'ULTA', 'USB', 'UAA', 'UA', 'UNP', 'UAL', 'UNH', 'UPS', 'URI', 'UTX', 'UHS', 'UNM', 'VFC', 'VLO', 'VAR', 'VTR', 'VRSN', 'VRSK', 'VZ', 'VRTX', 'VIAB', 'V', 'VNO', 'VMC', 'WMT', 'WBA', 'DIS', 'WM', 'WAT', 'WEC', 'WFC', 'HCN', 'WDC', 'WU', 'WRK', 'WY', 'WHR', 'WMB', 'WLTW', 'WYN', 'WYNN', 'XEL', 'XRX', 'XLNX', 'XL', 'XYL', 'YUM', 'ZBH', 'ZION', 'ZTS']\n"
     ]
    }
   ],
   "source": [
    "sp500 = pd.read_excel('./S&P500_Stocks.xlsx')\n",
    "tickers = sp500.Ticker.tolist()\n",
    "print(tickers)"
   ]
  },
  {
   "cell_type": "markdown",
   "metadata": {},
   "source": [
    "**Download the Financial data from http://stockrow.com**"
   ]
  },
  {
   "cell_type": "code",
   "execution_count": null,
   "metadata": {
    "collapsed": true,
    "scrolled": true
   },
   "outputs": [],
   "source": [
    "for stock in tickers[0]: \n",
    "    \n",
    "    # Get the data from https://stockrow.com\n",
    "    #print (stock, ' starting download')\n",
    "    df_income = pd.read_excel('https://stockrow.com/api/companies/'+str(stock)+'/financials.xlsx?dimension=MRQ&section=Income%20Statement')\n",
    "    df_balanceSheet = pd.read_excel('https://stockrow.com/api/companies/'+str(stock)+'/financials.xlsx?dimension=MRQ&section=Balance%20Sheet')\n",
    "    df_cash = pd.read_excel('https://stockrow.com/api/companies/'+str(stock)+'/financials.xlsx?dimension=MRQ&section=Cash%20Flow')\n",
    "    df_metrics = pd.read_excel('https://stockrow.com/api/companies/'+str(stock)+'/financials.xlsx?dimension=MRQ&section=Metrics')\n",
    "    df_growth = pd.read_excel('https://stockrow.com/api/companies/'+str(stock)+'/financials.xlsx?dimension=MRQ&section=Growth')\n",
    "    #print (stock, ' downloaded.')\n",
    "    \n",
    "    fname = str(stock) + \".xlsx\"\n",
    "    writer = pd.ExcelWriter(fname)\n",
    "    \n",
    "    df_income.to_excel(writer, sheet_name =\"income\")\n",
    "    df_balanceSheet.to_excel(writer, sheet_name =\"balance_sheet\")\n",
    "    df_cash.to_excel(writer, sheet_name =\"cash_flow\")\n",
    "    df_metrics.to_excel(writer, sheet_name =\"metrics\")\n",
    "    df_growth.to_excel(writer, sheet_name =\"growth\")\n",
    "    #print (stock, ' saved.')\n",
    "    \n",
    "    # Prevent DDOS\n",
    "    random_time = randint(5,15)\n",
    "    #print ('waiting, ', random_time,'secs')\n",
    "    time.sleep(random_time)\n",
    "\n",
    "    \n",
    "print('~~~DONE~~~')"
   ]
  },
  {
   "cell_type": "markdown",
   "metadata": {},
   "source": [
    "**Create consolidated lists of Income Sheet, Balance Sheet, cash flow, metrics, growth**"
   ]
  },
  {
   "cell_type": "code",
   "execution_count": 91,
   "metadata": {
    "collapsed": true,
    "scrolled": true
   },
   "outputs": [],
   "source": [
    "files = os.listdir('./Data') #directory with the stock files\n",
    "\n",
    "# Consolidated 'MasterList' DataFrames for each category\n",
    "income_df = pd.DataFrame() \n",
    "balanceSheet_df = pd.DataFrame() \n",
    "cashFlow_df = pd.DataFrame() \n",
    "metrics_df = pd.DataFrame() \n",
    "growth_df = pd.DataFrame() \n",
    "\n",
    "\n",
    "datasets = [income_df, balanceSheet_df, cashFlow_df, metrics_df, growth_df]\n",
    "sheet_names = ['income', 'balance_sheet', 'cash_flow', 'metrics', 'growth' ]\n",
    "\n",
    "for f in files:\n",
    "    \n",
    "    ticker = f.split('.')[0] # get stock ticker from filename (eg. AAPL.xlsx)\n",
    "    filepath = os.getcwd() + '\\\\Data\\\\'+f # file path for each stock file\n",
    "    \n",
    "    # For each file (eg. AAPL.xlsx), iterate through its tabs (eg. income, balance_sheet etc) and save into the 'Master List'\n",
    "    for i in range (5):\n",
    "        temp_df= pd.read_excel(filepath, sheetname = sheet_names[i]).transpose()\n",
    "        temp_df['Ticker'] = ticker\n",
    "        datasets[i] = pd.concat([datasets[i], temp_df])# Append stock data into Master List\n",
    "\n",
    "        \n",
    "# Assign values into \n",
    "income_df = datasets[0]\n",
    "balanceSheet_df =  datasets[1]\n",
    "cashFlow_df =  datasets[2]\n",
    "metrics_df =  datasets[3]\n",
    "growth_df =  datasets[4]\n",
    "\n"
   ]
  },
  {
   "cell_type": "markdown",
   "metadata": {},
   "source": [
    "Save to excel and to pickle"
   ]
  },
  {
   "cell_type": "code",
   "execution_count": 92,
   "metadata": {
    "collapsed": true
   },
   "outputs": [],
   "source": [
    "income_df.to_excel('income.xlsx')\n",
    "balanceSheet_df.to_excel('balanceSheet.xlsx')\n",
    "cashFlow_df.to_excel('cashFlow.xlsx')\n",
    "metrics_df.to_excel('metrics.xlsx')\n",
    "growth_df.to_excel('growth.xlsx')\n",
    "\n",
    "income_df.to_pickle('income.pkl')\n",
    "balanceSheet_df.to_pickle('balanceSheet.pkl')\n",
    "cashFlow_df.to_pickle('cashFlow.pkl')\n",
    "metrics_df.to_pickle('metrics.pkl')\n",
    "growth_df.to_pickle('growth.pkl')"
   ]
  },
  {
   "cell_type": "markdown",
   "metadata": {},
   "source": [
    "**Get historical prices for S&P500 stocks and the S&P index**"
   ]
  },
  {
   "cell_type": "markdown",
   "metadata": {},
   "source": [
    "Define helper function that will scrape Yahoo Finance for the historical stock data, and return the results in a DataFrame"
   ]
  },
  {
   "cell_type": "code",
   "execution_count": null,
   "metadata": {
    "collapsed": true
   },
   "outputs": [],
   "source": [
    "def get_yahoo_ticker_data(ticker):\n",
    "    '''\n",
    "    This method scraps Historical stock data from  Yahoo Finance.\n",
    "    This method takes in stock ticker as input (eg. 'AAPL, 'AMZN') and ouputs a DataFrame with\n",
    "    histrorical stock prices from Jan-04-2008 to Jan-31-2018. \n",
    "    Source Credit for scraping Yahoo Finance: \n",
    "    https://github.com/bradlucas/get-yahoo-quotes-python/blob/master/get-yahoo-quotes.py\n",
    "\n",
    "    '''\n",
    "    # Scrape Yahoo Fiancexcc\n",
    "    res = requests.get('https://finance.yahoo.com/quote/' + ticker + '/history')\n",
    "    yahoo_cookie = res.cookies['B']\n",
    "    yahoo_crumb = None\n",
    "    pattern = re.compile('.*\"CrumbStore\":\\{\"crumb\":\"(?P<crumb>[^\"]+)\"\\}')\n",
    "    for line in res.text.splitlines():\n",
    "        m = pattern.match(line)\n",
    "        if m is not None:\n",
    "            yahoo_crumb = m.groupdict()['crumb']\n",
    "    cookie_tuple = yahoo_cookie, yahoo_crumb\n",
    "\n",
    "    current_date = int(time.time())\n",
    "    url_kwargs = {'symbol': ticker, 'timestamp_end': current_date,\n",
    "        'crumb': cookie_tuple[1]}\n",
    "    #set period1= 0 for Max History, or enter custom unix date\n",
    "    #set interval=1d for daily updates, =1wk for weekly updates, =1mo for monthly updates\n",
    "    url_price = 'https://query1.finance.yahoo.com/v7/finance/download/' \\\n",
    "                '{symbol}?period1=1199163600&period2={timestamp_end}&interval=1d&events=history' \\\n",
    "                '&crumb={crumb}'.format(**url_kwargs)\n",
    "\n",
    "    time.sleep(1)\n",
    "    response = requests.get(url_price, cookies={'B': cookie_tuple[0]}) #webpage\n",
    "    \n",
    "    # Create pandas data frame from the downloaded page  \n",
    "    s = response.content\n",
    "    s = s.decode('utf-8')\n",
    "    s = s.replace('Adj Close', 'Adj_Close')\n",
    "    s_rows = s.split('\\n')\n",
    "    s_rows_cols = [each.split() for each in s_rows]\n",
    "    print (s_rows_cols[:2])\n",
    "    header_row = ['Date','Open','High','Low','Close','Adj_Close','Volume']\n",
    "\n",
    "\n",
    "    df = pd.DataFrame (s_rows_cols[1:])\n",
    "    df = pd.concat([df[0].str.split(',', expand=True)], axis=1)\n",
    "    df.columns = header_row\n",
    "    \n",
    "    return df"
   ]
  },
  {
   "cell_type": "markdown",
   "metadata": {},
   "source": [
    "Create stock price data"
   ]
  },
  {
   "cell_type": "code",
   "execution_count": null,
   "metadata": {
    "scrolled": true
   },
   "outputs": [],
   "source": [
    "missed_stocks=[]\n",
    "stock_prices = pd.DataFrame({'Tickers':[]})\n",
    "\n",
    "for stock in tickers[0:10]:\n",
    "    print ('Stock:', stock)\n",
    "    try: #if we can successfully get the stock price data\n",
    "        current_stock = get_yahoo_ticker_data(stock)\n",
    "        current_stock['Ticker'] = stock\n",
    "        stock_prices = pd.concat([stock_prices, current_stock])\n",
    "          \n",
    "    except Exception as ex:# generate list of stocks for which we were unable to obtain stock data\n",
    "        template = \"An exception of type {0} occurred. Arguments:\\n{1!r}\"\n",
    "        message = template.format(type(ex).__name__, ex.args)\n",
    "        print (message)\n",
    "        missed_stocks.append(stock)\n",
    "    #time.sleep(1)\n",
    "\n",
    "print (missed_stocks) # rerun the above script with these missed stocks to donwload complete data"
   ]
  },
  {
   "cell_type": "markdown",
   "metadata": {},
   "source": [
    "Add the S&P 500 index (ticker: ^GSPC)"
   ]
  },
  {
   "cell_type": "code",
   "execution_count": null,
   "metadata": {
    "collapsed": true
   },
   "outputs": [],
   "source": [
    "try: #if we can successfully get the stock price data\n",
    "    sp500 = get_yahoo_ticker_data('^GSPC')\n",
    "    sp500['Ticker'] = 'S&P500'\n",
    "    stock_prices = pd.concat([stock_prices, sp500])\n",
    "except Exception as ex:# generate list of stocks for which we were unable to obtain stock data\n",
    "        template = \"An exception of type {0} occurred. Arguments:\\n{1!r}\"\n",
    "        message = template.format(type(ex).__name__, ex.args)\n",
    "        print (message)"
   ]
  },
  {
   "cell_type": "code",
   "execution_count": null,
   "metadata": {
    "collapsed": true
   },
   "outputs": [],
   "source": [
    "#save to pickle\n",
    "stock_prices.to_pickle('stock_prices_v5.pkl')"
   ]
  },
  {
   "cell_type": "markdown",
   "metadata": {},
   "source": [
    "Read from pickle"
   ]
  },
  {
   "cell_type": "code",
   "execution_count": 3,
   "metadata": {
    "collapsed": true
   },
   "outputs": [],
   "source": [
    "income_df = pd.read_pickle('income.pkl')\n",
    "balanceSheet_df = pd.read_pickle('balanceSheet.pkl')\n",
    "cashFlow_df = pd.read_pickle('cashFlow.pkl')\n",
    "metrics_df = pd.read_pickle('metrics.pkl')\n",
    "growth_df= pd.read_pickle('growth.pkl')\n",
    "stock_prices = pd.read_pickle('stock_prices.pkl')"
   ]
  },
  {
   "cell_type": "code",
   "execution_count": null,
   "metadata": {
    "collapsed": true
   },
   "outputs": [],
   "source": []
  },
  {
   "cell_type": "code",
   "execution_count": null,
   "metadata": {
    "collapsed": true
   },
   "outputs": [],
   "source": []
  },
  {
   "cell_type": "code",
   "execution_count": null,
   "metadata": {
    "collapsed": true
   },
   "outputs": [],
   "source": []
  },
  {
   "cell_type": "code",
   "execution_count": null,
   "metadata": {
    "collapsed": true
   },
   "outputs": [],
   "source": []
  },
  {
   "cell_type": "code",
   "execution_count": null,
   "metadata": {
    "collapsed": true
   },
   "outputs": [],
   "source": []
  },
  {
   "cell_type": "code",
   "execution_count": null,
   "metadata": {
    "collapsed": true
   },
   "outputs": [],
   "source": []
  },
  {
   "cell_type": "code",
   "execution_count": null,
   "metadata": {
    "collapsed": true
   },
   "outputs": [],
   "source": []
  },
  {
   "cell_type": "code",
   "execution_count": null,
   "metadata": {
    "collapsed": true
   },
   "outputs": [],
   "source": [
    "files = os.listdir('./Data') #directory with the stock files\n",
    "\n",
    "# Consolidated 'Master List' DataFrames for each category\n",
    "income_df = pd.DataFrame() \n",
    "balanceSheet_df = pd.DataFrame() \n",
    "cashFlow_df = pd.DataFrame() \n",
    "metrics_df = pd.DataFrame() \n",
    "growth_df = pd.DataFrame() \n",
    "\n",
    "for f in files:\n",
    "    \n",
    "    ticker = f.split('.')[0] # get stock ticker \n",
    "    filepath = os.getcwd() + '\\\\Data\\\\'+f # file path for each stock file\n",
    "    print (filepath)  \n",
    "    \n",
    "    #Get the temporary data for each file and transpose\n",
    "    \n",
    "    stock_df= pd.read_excel(filepath, sheetname = 'income').transpose()\n",
    "    stock_df['Ticker'] = ticker\n",
    "    income_df = pd.concat([income_df,stock_df])\n",
    "    \n",
    "    stock_df = pd.read_excel(filepath, sheetname = 'balance_sheet').transpose()\n",
    "    stock_df['Ticker'] = ticker\n",
    "    balanceSheet_df = pd.concat([balanceSheet_df,stock_df])\n",
    "    \n",
    "    stock_df = pd.read_excel(filepath, sheetname = 'cash_flow').transpose()\n",
    "    stock_df['Ticker'] = ticker\n",
    "    cashFlow_df = pd.concat([cashFlow_df,stock_df])\n",
    "    \n",
    "    stock_df = pd.read_excel(filepath, sheetname = 'metrics').transpose()\n",
    "    stock_df['Ticker'] = ticker\n",
    "    metrics_df = pd.concat([metrics_df,stock_df])\n",
    "    \n",
    "    stock_df = pd.read_excel(filepath, sheetname = 'growth').transpose()\n",
    "    stock_df['Ticker'] = ticker\n",
    "    growth_df = pd.concat([growth_df,stock_df])\n",
    "\n",
    "    "
   ]
  }
 ],
 "metadata": {
  "kernelspec": {
   "display_name": "Python 3",
   "language": "python",
   "name": "python3"
  },
  "language_info": {
   "codemirror_mode": {
    "name": "ipython",
    "version": 3
   },
   "file_extension": ".py",
   "mimetype": "text/x-python",
   "name": "python",
   "nbconvert_exporter": "python",
   "pygments_lexer": "ipython3",
   "version": "3.6.2"
  }
 },
 "nbformat": 4,
 "nbformat_minor": 2
}
