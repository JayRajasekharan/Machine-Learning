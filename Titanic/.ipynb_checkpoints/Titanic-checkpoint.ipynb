{
 "cells": [
  {
   "cell_type": "code",
   "execution_count": 1,
   "metadata": {
    "collapsed": true
   },
   "outputs": [],
   "source": [
    "import pandas as pd\n",
    "import numpy as np\n",
    "\n",
    "import seaborn as sns\n",
    "import matplotlib.pyplot as plt\n",
    "%matplotlib inline"
   ]
  },
  {
   "cell_type": "markdown",
   "metadata": {},
   "source": [
    "## Load Dataset"
   ]
  },
  {
   "cell_type": "code",
   "execution_count": 2,
   "metadata": {
    "collapsed": true,
    "scrolled": true
   },
   "outputs": [],
   "source": [
    "train_df = pd.read_csv('./Data/train.csv')\n",
    "test_df = pd.read_csv('./Data/test.csv')\n",
    "\n",
    "datasets = [train_df, test_df] # useful for performing operations on both dataframes\n",
    "\n",
    "#train_df.head(2)\n",
    "#test_df.head(2)"
   ]
  },
  {
   "cell_type": "markdown",
   "metadata": {},
   "source": [
    "**Data Dictionary**\n",
    "\n",
    "URL:  https://www.kaggle.com/c/titanic/data\n",
    "\n",
    "**`Variable:`  Definition**\n",
    "- `survival:` Survival\t\n",
    "- `pclass:` Ticket class. A proxy for socio-economic status (SES)\n",
    "\n",
    "        1st = Upper\n",
    "        2nd = Middle\n",
    "        3rd = Lower\t\n",
    "- `sex:` Male/Female\t\n",
    "- `Age:` Age in years. Age is fractional if less than 1. If the age is estimated, is it in the form of xx.5\t\n",
    "- `sibsp:` # of siblings / spouses aboard the Titanic The dataset defines family relations in this way...\n",
    "        \n",
    "        Sibling = brother, sister, stepbrother, stepsister\n",
    "        Spouse = husband, wife (mistresses and fiancés were\t\n",
    "- `parch:` # of parents / children aboard the Titanic. The dataset defines family relations in this way...\n",
    "\n",
    "        Parent = mother, father\n",
    "        Child = daughter, son, stepdaughter, stepson\n",
    "        Some children travelled only with a nanny, therefore parch=0 for them.\t\n",
    "- `ticket:` Ticket number\t\n",
    "- `fare:` Passenger fare\t\n",
    "- `cabin:` Cabin number\t\n",
    "- `embarked:` Port of Embarkation (C = Cherbourg, Q = Queenstown, S = Southampton)\n",
    "\n",
    "**Key**\n",
    "- 0 = No, 1 = Yes\n",
    "- 1 = 1st, 2 = 2nd, 3 = 3rd"
   ]
  },
  {
   "cell_type": "markdown",
   "metadata": {},
   "source": [
    "** Describe the data set**\n",
    "- Catagorical features: `Survived`, `Pclass`, `Sex`, `Cabin`, `Embarked`\n",
    "- Nuberical features: `Age`, `Fare`, `SibSp`, `Parch`\n",
    "- 891 total passengers. 64.7% were male (577 freq), 35.2% were female (314 freq)\n",
    "- Around 38.4% of the passengers survived. Real survivor rate was ~32%\n",
    "- There is a lot of duplication in the `ticket` feature (23.5% duplicates, 681 unique entries)\n",
    "- There are 3 possible port in the `Embarked` feature\n",
    "- `Age`, `Cabin`, and `Embarked` have missing values. They will be addressed below\n"
   ]
  },
  {
   "cell_type": "code",
   "execution_count": null,
   "metadata": {
    "collapsed": true,
    "scrolled": true
   },
   "outputs": [],
   "source": [
    "print ('-'*15 + 'Train' + '-'*15)\n",
    "print(train_df.info())\n",
    "print ('-'*15 + 'Test' + '-'*15)\n",
    "print(test_df.info())"
   ]
  },
  {
   "cell_type": "code",
   "execution_count": null,
   "metadata": {
    "collapsed": true,
    "scrolled": true
   },
   "outputs": [],
   "source": [
    "train_df.describe()"
   ]
  },
  {
   "cell_type": "code",
   "execution_count": null,
   "metadata": {
    "collapsed": true
   },
   "outputs": [],
   "source": [
    "train_df.describe(include=['O'])"
   ]
  },
  {
   "cell_type": "markdown",
   "metadata": {},
   "source": [
    "## Clean Data & Feature Engineering\n",
    "\n",
    "I will be applying the fixes to both `train_df` and `test_df` by iterating through the `datasets` list."
   ]
  },
  {
   "cell_type": "markdown",
   "metadata": {},
   "source": [
    "**--- `Age` ---**\n",
    "\n",
    "- Fill the missing ages with the mean age of the each gender"
   ]
  },
  {
   "cell_type": "code",
   "execution_count": null,
   "metadata": {
    "collapsed": true,
    "scrolled": true
   },
   "outputs": [],
   "source": [
    "# Let us examine the mean age of passengers broken out by Gender in train_df. \n",
    "print('-----Train-----')\n",
    "print(train_df[['Sex','Age']].groupby(['Sex']).mean())\n",
    "print('-----Test-----')\n",
    "# Let us examine the mean age of passengers broken out by Gender in test_df. \n",
    "print(test_df[['Sex','Age']].groupby(['Sex']).mean())"
   ]
  },
  {
   "cell_type": "code",
   "execution_count": null,
   "metadata": {
    "collapsed": true
   },
   "outputs": [],
   "source": [
    "# iterate through test and train datasets\n",
    "for df in datasets:\n",
    "    \n",
    "    # Calculate the mean ages for male and female passengers\n",
    "    mean_female_age = df.groupby(['Sex']).mean().loc['female','Age']\n",
    "    mean_male_age = df.groupby(['Sex']).mean().loc['male','Age']\n",
    "   \n",
    "    # select female & age = Null\n",
    "    df.loc[(df.Sex == 'female') & (df.Age.isnull()),'Age'] = mean_female_age\n",
    "    # select male & age = Null\n",
    "    df.loc[(df.Sex == 'male') & (df.Age.isnull()),'Age'] = mean_male_age"
   ]
  },
  {
   "cell_type": "code",
   "execution_count": null,
   "metadata": {
    "collapsed": true,
    "scrolled": true
   },
   "outputs": [],
   "source": [
    "# Check to see if the Nulls have gone\n",
    "train_df[['Age']].info()\n",
    "#test_df[['Age']].info()"
   ]
  },
  {
   "cell_type": "markdown",
   "metadata": {},
   "source": [
    "**--- `Cabin` ---**\n",
    "\n",
    "- Lot of values are missing the Cabin info - only ~23% of the samples have cabin info. \n",
    "- Let us extract the first letter of the `Cabin` to a separate `Deck` column. \n",
    "- For missing samples with missing `Cabin` info, I will categorize the `Deck` as 'U' for Unknown.\n",
    "- A few samples have multiple Cabins per line (eg. B82 B84). For same of simplicity, I will use the first cabin to determin the Deck (B82 `->` Deck B)"
   ]
  },
  {
   "cell_type": "code",
   "execution_count": null,
   "metadata": {
    "collapsed": true,
    "scrolled": true
   },
   "outputs": [],
   "source": [
    "# Summary of what the Cabin feature looks like\n",
    "train_df.Cabin.value_counts().head()"
   ]
  },
  {
   "cell_type": "code",
   "execution_count": null,
   "metadata": {
    "collapsed": true
   },
   "outputs": [],
   "source": [
    "for df in datasets:\n",
    "    # Label all NaN Cabin values = Unknown\n",
    "    df.loc[df.Cabin.isnull(), 'Cabin'] = 'Unknown'\n",
    "    \n",
    "    # Take the first letter of the Cabin, and use it as the 'Deck'\n",
    "    df['Deck'] = df.Cabin.map(lambda x: str(x).split()[0][0])"
   ]
  },
  {
   "cell_type": "code",
   "execution_count": null,
   "metadata": {
    "collapsed": true,
    "scrolled": false
   },
   "outputs": [],
   "source": [
    "# Summary of the Deck Feature\n",
    "train_df['Deck'].value_counts()"
   ]
  },
  {
   "cell_type": "code",
   "execution_count": null,
   "metadata": {
    "collapsed": true
   },
   "outputs": [],
   "source": [
    "test_df['Deck'].value_counts()"
   ]
  },
  {
   "cell_type": "markdown",
   "metadata": {},
   "source": [
    "Since the `test_df` does not have Deck T, we will classify "
   ]
  },
  {
   "cell_type": "markdown",
   "metadata": {},
   "source": [
    "**--- `Embarked` ---**\n",
    "- There are three ports of Embarkation: C = Cherbourg, Q = Queenstown, S = Southampton.\n",
    "- For the missing entries, we will estimate the port of Embarkation based on the most frequent Port."
   ]
  },
  {
   "cell_type": "code",
   "execution_count": null,
   "metadata": {
    "collapsed": true
   },
   "outputs": [],
   "source": [
    "# Breakdown of passengers by Port of Embarkation. Most frequent is Southhampton 'S'\n",
    "train_df.Embarked.value_counts()\n",
    "#test_df.Embarked.value_counts() #uncomment to check test_df\n",
    "\n",
    "# (optional) review which entries have NaN for age\n",
    "#train_df[train_df.Embarked.isnull()] "
   ]
  },
  {
   "cell_type": "code",
   "execution_count": null,
   "metadata": {
    "collapsed": true,
    "scrolled": false
   },
   "outputs": [],
   "source": [
    "# Fill in missing values with the most frequent port\n",
    "for df in datasets:\n",
    "    # Get the name of the most frequent port by using value counts\n",
    "    max_port = df.Embarked.value_counts().index.tolist()[0]\n",
    "\n",
    "    # Label missing entries with the most frequent port (Southhampton 'S')\n",
    "    df.loc[df.Embarked.isnull(),'Embarked'] = max_port"
   ]
  },
  {
   "cell_type": "code",
   "execution_count": null,
   "metadata": {
    "collapsed": true
   },
   "outputs": [],
   "source": [
    "# Check to see if the Nulls have gone\n",
    "train_df[['Embarked']].info()"
   ]
  },
  {
   "cell_type": "markdown",
   "metadata": {},
   "source": [
    "**--- `Parch` & `SibSp` ---**\n",
    "- Let us combine the parents, childern, sibilings, spouses info in a new `FamilySize` feature"
   ]
  },
  {
   "cell_type": "code",
   "execution_count": null,
   "metadata": {
    "collapsed": true
   },
   "outputs": [],
   "source": [
    "for df in datasets:\n",
    "    # adding +1 for the person him/herself\n",
    "    df['FamilySize'] = df['Parch'] + df['SibSp'] + 1"
   ]
  },
  {
   "cell_type": "code",
   "execution_count": null,
   "metadata": {
    "collapsed": true
   },
   "outputs": [],
   "source": [
    "#Review the breakdown of family sizes in \n",
    "train_df.FamilySize.value_counts()"
   ]
  },
  {
   "cell_type": "markdown",
   "metadata": {},
   "source": [
    "Given that the vast majority of the samples have `FamilySize` <= 4. Let us band the FamilySize into the following buckets: 1, 2, 3, 4, 5+"
   ]
  },
  {
   "cell_type": "code",
   "execution_count": null,
   "metadata": {
    "collapsed": true
   },
   "outputs": [],
   "source": [
    "for df in datasets:\n",
    "    df.loc[df['FamilySize'] >= 5, 'FamilySize'] = '5+'"
   ]
  },
  {
   "cell_type": "markdown",
   "metadata": {},
   "source": [
    "**---Fare---**\n",
    "- In the test_df, `Fare` feature has Null values"
   ]
  },
  {
   "cell_type": "code",
   "execution_count": null,
   "metadata": {
    "collapsed": true
   },
   "outputs": [],
   "source": [
    "# Fill missing values with mean Fare\n",
    "for df in datasets:\n",
    "    df.loc[df.Fare.isnull(),'Fare'] = df.Fare.mean()"
   ]
  },
  {
   "cell_type": "markdown",
   "metadata": {},
   "source": [
    "**---Title---**\n",
    "- Let us extract the titles from the names"
   ]
  },
  {
   "cell_type": "code",
   "execution_count": null,
   "metadata": {
    "collapsed": true
   },
   "outputs": [],
   "source": [
    "df.Name.tail()"
   ]
  },
  {
   "cell_type": "code",
   "execution_count": null,
   "metadata": {
    "collapsed": true
   },
   "outputs": [],
   "source": [
    "#Extract the titles\n",
    "for df in datasets:\n",
    "    df['Title'] = df['Name'].str.extract(' ([A-Za-z]+)\\.', expand=False)\n",
    "    "
   ]
  },
  {
   "cell_type": "code",
   "execution_count": null,
   "metadata": {
    "collapsed": true
   },
   "outputs": [],
   "source": [
    "#Lets look at the top values of Titles in both datasets. Note that 'Dona' appears only in test_df\n",
    "pd.concat([train_df.Title.value_counts(), test_df.Title.value_counts()], \n",
    "              keys=['Train','Test'],axis = 1).sort_values('Train', ascending=False)"
   ]
  },
  {
   "cell_type": "markdown",
   "metadata": {},
   "source": [
    "Most of the samples have titles of Mr, Miss, Mrs, or Master. Therefore we will group the other titles as 'Other'"
   ]
  },
  {
   "cell_type": "code",
   "execution_count": null,
   "metadata": {
    "collapsed": true
   },
   "outputs": [],
   "source": [
    "for df in datasets:\n",
    "    df['Title'] = df['Title'].replace('Mme','Mrs')\n",
    "    df['Title'] = df['Title'].replace('Ms','Miss')\n",
    "    df['Title'] = df['Title'].replace('Mlle','Miss')\n",
    "    \n",
    "    #group other titles as 'Other'\n",
    "    df['Title'] = df['Title'].replace(['Capt','Col','Countess','Don','Dona','Dr',\n",
    "                                       'Jonkheer','Lady','Major','Rev','Sir'], 'Other')"
   ]
  },
  {
   "cell_type": "markdown",
   "metadata": {},
   "source": [
    "**---Sex---**\n",
    "- Set Male = 1 and Female = 0"
   ]
  },
  {
   "cell_type": "code",
   "execution_count": null,
   "metadata": {
    "collapsed": true
   },
   "outputs": [],
   "source": [
    "# Change Sex to 1=male, 0=female\n",
    "for df in datasets:\n",
    "    df.loc[df.Sex == 'male','Sex'] = 1\n",
    "    df.loc[df.Sex == 'female','Sex'] = 0"
   ]
  },
  {
   "cell_type": "code",
   "execution_count": null,
   "metadata": {
    "collapsed": true
   },
   "outputs": [],
   "source": [
    "train_df.Sex.value_counts()\n",
    "#test_df.Sex.value_counts()"
   ]
  },
  {
   "cell_type": "markdown",
   "metadata": {},
   "source": [
    "## Analysis & Building ML Model"
   ]
  },
  {
   "cell_type": "markdown",
   "metadata": {},
   "source": [
    "**>>>CHEAT CELL**"
   ]
  },
  {
   "cell_type": "code",
   "execution_count": 3,
   "metadata": {
    "collapsed": true
   },
   "outputs": [],
   "source": [
    "# iterate through test and train datasets\n",
    "for df in datasets:\n",
    "    \n",
    "    # Age\n",
    "    mean_female_age = df.groupby(['Sex']).mean().loc['female','Age']\n",
    "    mean_male_age = df.groupby(['Sex']).mean().loc['male','Age']\n",
    "    df.loc[(df.Sex == 'female') & (df.Age.isnull()),'Age'] = mean_female_age\n",
    "    df.loc[(df.Sex == 'male') & (df.Age.isnull()),'Age'] = mean_male_age\n",
    "\n",
    "    # Cabin\n",
    "    df.loc[df.Cabin.isnull(), 'Cabin'] = 'Unknown'\n",
    "    df['Deck'] = df.Cabin.map(lambda x: str(x).split()[0][0])\n",
    "    \n",
    "    # Embarked\n",
    "    max_port = df.Embarked.value_counts().index.tolist()[0]\n",
    "    df.loc[df.Embarked.isnull(),'Embarked'] = max_port\n",
    "    \n",
    "    #Parch SibSP\n",
    "    df['FamilySize'] = df['Parch'] + df['SibSp'] + 1\n",
    "    df.loc[df['FamilySize'] >= 5, 'FamilySize'] = '5+'\n",
    "    \n",
    "    #Fare\n",
    "    df.loc[df.Fare.isnull(), 'Fare'] = df.Fare.mean()\n",
    "    \n",
    "    #Title    \n",
    "    df['Title'] = df['Name'].str.extract(' ([A-Za-z]+)\\.', expand=False)\n",
    "    df['Title'] = df['Title'].replace('Mme','Mrs')\n",
    "    df['Title'] = df['Title'].replace('Ms','Miss')\n",
    "    df['Title'] = df['Title'].replace('Mlle','Miss')  \n",
    "    df['Title'] = df['Title'].replace(['Capt','Col','Countess','Don','Dona','Dr',\n",
    "                                       'Jonkheer','Lady','Major','Rev','Sir'], 'Other')\n",
    "    \n",
    "    #Sex\n",
    "    df.loc[df.Sex == 'male','Sex'] = 1\n",
    "    df.loc[df.Sex == 'female','Sex'] = 0"
   ]
  },
  {
   "cell_type": "code",
   "execution_count": 4,
   "metadata": {},
   "outputs": [
    {
     "data": {
      "text/html": [
       "<div>\n",
       "<style>\n",
       "    .dataframe thead tr:only-child th {\n",
       "        text-align: right;\n",
       "    }\n",
       "\n",
       "    .dataframe thead th {\n",
       "        text-align: left;\n",
       "    }\n",
       "\n",
       "    .dataframe tbody tr th {\n",
       "        vertical-align: top;\n",
       "    }\n",
       "</style>\n",
       "<table border=\"1\" class=\"dataframe\">\n",
       "  <thead>\n",
       "    <tr style=\"text-align: right;\">\n",
       "      <th></th>\n",
       "      <th>PassengerId</th>\n",
       "      <th>Survived</th>\n",
       "      <th>Pclass</th>\n",
       "      <th>Name</th>\n",
       "      <th>Sex</th>\n",
       "      <th>Age</th>\n",
       "      <th>SibSp</th>\n",
       "      <th>Parch</th>\n",
       "      <th>Ticket</th>\n",
       "      <th>Fare</th>\n",
       "      <th>Cabin</th>\n",
       "      <th>Embarked</th>\n",
       "      <th>Deck</th>\n",
       "      <th>FamilySize</th>\n",
       "      <th>Title</th>\n",
       "    </tr>\n",
       "  </thead>\n",
       "  <tbody>\n",
       "    <tr>\n",
       "      <th>0</th>\n",
       "      <td>1</td>\n",
       "      <td>0</td>\n",
       "      <td>3</td>\n",
       "      <td>Braund, Mr. Owen Harris</td>\n",
       "      <td>1</td>\n",
       "      <td>22.0</td>\n",
       "      <td>1</td>\n",
       "      <td>0</td>\n",
       "      <td>A/5 21171</td>\n",
       "      <td>7.2500</td>\n",
       "      <td>Unknown</td>\n",
       "      <td>S</td>\n",
       "      <td>U</td>\n",
       "      <td>2</td>\n",
       "      <td>Mr</td>\n",
       "    </tr>\n",
       "    <tr>\n",
       "      <th>1</th>\n",
       "      <td>2</td>\n",
       "      <td>1</td>\n",
       "      <td>1</td>\n",
       "      <td>Cumings, Mrs. John Bradley (Florence Briggs Th...</td>\n",
       "      <td>0</td>\n",
       "      <td>38.0</td>\n",
       "      <td>1</td>\n",
       "      <td>0</td>\n",
       "      <td>PC 17599</td>\n",
       "      <td>71.2833</td>\n",
       "      <td>C85</td>\n",
       "      <td>C</td>\n",
       "      <td>C</td>\n",
       "      <td>2</td>\n",
       "      <td>Mrs</td>\n",
       "    </tr>\n",
       "    <tr>\n",
       "      <th>2</th>\n",
       "      <td>3</td>\n",
       "      <td>1</td>\n",
       "      <td>3</td>\n",
       "      <td>Heikkinen, Miss. Laina</td>\n",
       "      <td>0</td>\n",
       "      <td>26.0</td>\n",
       "      <td>0</td>\n",
       "      <td>0</td>\n",
       "      <td>STON/O2. 3101282</td>\n",
       "      <td>7.9250</td>\n",
       "      <td>Unknown</td>\n",
       "      <td>S</td>\n",
       "      <td>U</td>\n",
       "      <td>1</td>\n",
       "      <td>Miss</td>\n",
       "    </tr>\n",
       "  </tbody>\n",
       "</table>\n",
       "</div>"
      ],
      "text/plain": [
       "   PassengerId  Survived  Pclass  \\\n",
       "0            1         0       3   \n",
       "1            2         1       1   \n",
       "2            3         1       3   \n",
       "\n",
       "                                                Name Sex   Age  SibSp  Parch  \\\n",
       "0                            Braund, Mr. Owen Harris   1  22.0      1      0   \n",
       "1  Cumings, Mrs. John Bradley (Florence Briggs Th...   0  38.0      1      0   \n",
       "2                             Heikkinen, Miss. Laina   0  26.0      0      0   \n",
       "\n",
       "             Ticket     Fare    Cabin Embarked Deck FamilySize Title  \n",
       "0         A/5 21171   7.2500  Unknown        S    U          2    Mr  \n",
       "1          PC 17599  71.2833      C85        C    C          2   Mrs  \n",
       "2  STON/O2. 3101282   7.9250  Unknown        S    U          1  Miss  "
      ]
     },
     "execution_count": 4,
     "metadata": {},
     "output_type": "execute_result"
    }
   ],
   "source": [
    "# Remid our selves of the full data set \n",
    "train_df.head(3)"
   ]
  },
  {
   "cell_type": "code",
   "execution_count": null,
   "metadata": {
    "collapsed": true
   },
   "outputs": [],
   "source": [
    "#Title vs Survived\n",
    "train_df[['Title','Survived']].groupby(['Title']).mean().plot(kind = 'barh')\n",
    "train_df[['Title','Survived']].groupby(['Title']).mean()"
   ]
  },
  {
   "cell_type": "code",
   "execution_count": null,
   "metadata": {
    "collapsed": true,
    "scrolled": true
   },
   "outputs": [],
   "source": [
    "#Class vs Survived\n",
    "train_df[['Pclass', 'Survived']].groupby(['Pclass']).mean().plot(kind='bar')\n",
    "train_df[['Pclass', 'Survived']].groupby(['Pclass']).mean()"
   ]
  },
  {
   "cell_type": "code",
   "execution_count": null,
   "metadata": {
    "collapsed": true,
    "scrolled": true
   },
   "outputs": [],
   "source": [
    "#Sex vs Survived\n",
    "train_df[['Sex','Survived']].groupby(['Sex']).mean().plot(kind = 'bar')\n",
    "train_df[['Sex','Survived']].groupby(['Sex']).mean()"
   ]
  },
  {
   "cell_type": "code",
   "execution_count": null,
   "metadata": {
    "collapsed": true,
    "scrolled": true
   },
   "outputs": [],
   "source": [
    "#FamilySize vs Survived\n",
    "train_df[['FamilySize','Survived']].groupby(['FamilySize']).mean().plot(kind='barh')\n",
    "train_df[['FamilySize','Survived']].groupby(['FamilySize']).mean()"
   ]
  },
  {
   "cell_type": "code",
   "execution_count": null,
   "metadata": {
    "collapsed": true,
    "scrolled": false
   },
   "outputs": [],
   "source": [
    "#Deck vs Survived\n",
    "train_df[['Deck','Survived']].groupby(['Deck']).mean().plot(kind='barh')\n",
    "#train_df[['Deck','Survived']].groupby(['Deck']).mean()"
   ]
  },
  {
   "cell_type": "markdown",
   "metadata": {},
   "source": [
    "One Hot Encode Catagorical Features"
   ]
  },
  {
   "cell_type": "code",
   "execution_count": 5,
   "metadata": {
    "collapsed": true,
    "scrolled": true
   },
   "outputs": [],
   "source": [
    "#One Hot Encode the Embarked column for ML \n",
    "train_ML = pd.get_dummies(train_df, columns = ['Embarked', 'Pclass','FamilySize','Title'])\n",
    "test_ML = pd.get_dummies(test_df, columns = ['Embarked', 'Pclass','FamilySize','Title'])"
   ]
  },
  {
   "cell_type": "markdown",
   "metadata": {},
   "source": [
    "Drop PassengerId, Name, SibSp, Parch, Ticket"
   ]
  },
  {
   "cell_type": "code",
   "execution_count": 6,
   "metadata": {
    "collapsed": true,
    "scrolled": true
   },
   "outputs": [],
   "source": [
    "train_ML.drop(['PassengerId', 'Name', 'SibSp', 'Parch', 'Ticket', 'Deck', 'Cabin'], axis = 1, inplace = True)\n",
    "test_ML.drop(['PassengerId', 'Name', 'SibSp', 'Parch', 'Ticket', 'Deck', 'Cabin'], axis = 1, inplace = True)"
   ]
  },
  {
   "cell_type": "code",
   "execution_count": 7,
   "metadata": {},
   "outputs": [
    {
     "name": "stdout",
     "output_type": "stream",
     "text": [
      "Index(['Survived', 'Sex', 'Age', 'Fare', 'Embarked_C', 'Embarked_Q',\n",
      "       'Embarked_S', 'Pclass_1', 'Pclass_2', 'Pclass_3', 'FamilySize_1',\n",
      "       'FamilySize_2', 'FamilySize_3', 'FamilySize_4', 'FamilySize_5+',\n",
      "       'Title_Master', 'Title_Miss', 'Title_Mr', 'Title_Mrs', 'Title_Other'],\n",
      "      dtype='object')\n",
      "Index(['Sex', 'Age', 'Fare', 'Embarked_C', 'Embarked_Q', 'Embarked_S',\n",
      "       'Pclass_1', 'Pclass_2', 'Pclass_3', 'FamilySize_1', 'FamilySize_2',\n",
      "       'FamilySize_3', 'FamilySize_4', 'FamilySize_5+', 'Title_Master',\n",
      "       'Title_Miss', 'Title_Mr', 'Title_Mrs', 'Title_Other'],\n",
      "      dtype='object')\n"
     ]
    }
   ],
   "source": [
    "print(train_ML.columns)\n",
    "print(test_ML.columns)"
   ]
  },
  {
   "cell_type": "code",
   "execution_count": 8,
   "metadata": {
    "collapsed": true
   },
   "outputs": [],
   "source": [
    "y = train_ML.Survived\n",
    "X = train_ML.drop('Survived', axis = 1)\n",
    "X_tst= test_ML"
   ]
  },
  {
   "cell_type": "markdown",
   "metadata": {},
   "source": [
    "**Null Accuracy:** \n",
    "\n",
    "Accuracy that could be achieved by always predicting the most frequent class (which in this case is `survived` = 0). We can use this as a baseline to measure against our models"
   ]
  },
  {
   "cell_type": "code",
   "execution_count": 24,
   "metadata": {
    "scrolled": true
   },
   "outputs": [
    {
     "name": "stdout",
     "output_type": "stream",
     "text": [
      "Null Accuracy (survive = 0):  0.6161616161616161\n"
     ]
    }
   ],
   "source": [
    "print ('Null Accuracy (survive = 0): ', 1-y.mean())"
   ]
  },
  {
   "cell_type": "markdown",
   "metadata": {},
   "source": [
    "***Logistic Regression***"
   ]
  },
  {
   "cell_type": "code",
   "execution_count": 9,
   "metadata": {
    "scrolled": false
   },
   "outputs": [
    {
     "name": "stdout",
     "output_type": "stream",
     "text": [
      "Mean Score:  0.824927647259\n",
      "[ 0.81111111  0.85555556  0.7752809   0.86516854  0.80898876  0.78651685\n",
      "  0.82022472  0.80898876  0.86516854  0.85227273]\n"
     ]
    }
   ],
   "source": [
    "#Train a logistic Regression model\n",
    "from sklearn.linear_model import LogisticRegression\n",
    "from sklearn.model_selection import cross_val_score\n",
    "\n",
    "logreg = LogisticRegression()\n",
    "\n",
    "scores = cross_val_score(logreg, X, y, cv=10, scoring = 'accuracy')\n",
    "\n",
    "print ('Mean Score: ', scores.mean())\n",
    "print (scores)"
   ]
  },
  {
   "cell_type": "markdown",
   "metadata": {},
   "source": [
    "*** K-Nearest Neighbors ***"
   ]
  },
  {
   "cell_type": "code",
   "execution_count": 14,
   "metadata": {
    "collapsed": true
   },
   "outputs": [],
   "source": [
    "from sklearn.neighbors import KNeighborsClassifier"
   ]
  },
  {
   "cell_type": "code",
   "execution_count": null,
   "metadata": {
    "collapsed": true
   },
   "outputs": [],
   "source": [
    "# Lets use cross_val_score to run 10 fold cross validation"
   ]
  },
  {
   "cell_type": "code",
   "execution_count": 25,
   "metadata": {},
   "outputs": [
    {
     "name": "stdout",
     "output_type": "stream",
     "text": [
      "[0.70046788105776869, 0.71956900465327434, 0.74086794915446597, 0.72857110430144145, 0.7330532856656452, 0.71960702530927256, 0.73199211213256166, 0.70954431960049935, 0.72302803314039266, 0.70280217909431397, 0.70504965384178864, 0.69830751333560326, 0.70621127000340489, 0.70839518783339017, 0.70396407899216895, 0.70509959141981615, 0.70172908863920092, 0.70285240040858021, 0.69270202020202021, 0.70395074338894559, 0.70171575303597777, 0.71181619566451027, 0.71071756894790605, 0.70734678243105209, 0.70393825899443874, 0.7028143797525821, 0.70170383611394849, 0.7050493701055498, 0.7061726818749291, 0.71176569061400519, 0.70955623652252864, 0.71403785041425494, 0.70951849960276925, 0.70167801611621827, 0.70054165247985478, 0.70503575076608782, 0.7072832255135626, 0.70503575076608782, 0.70394960844399046]\n"
     ]
    },
    {
     "data": {
      "text/plain": [
       "[<matplotlib.lines.Line2D at 0x1be4a71e2e8>]"
      ]
     },
     "execution_count": 25,
     "metadata": {},
     "output_type": "execute_result"
    },
    {
     "data": {
      "image/png": "[encoded data removed]",
      "text/plain": [
       "<matplotlib.figure.Figure at 0x1be49f9dc18>"
      ]
     },
     "metadata": {},
     "output_type": "display_data"
    }
   ],
   "source": [
    "k_range = range (1,40)\n",
    "k_scores = []\n",
    "for n in k_range:\n",
    "    knn = KNeighborsClassifier (n_neighbors = n)\n",
    "    scores = cross_val_score(knn, X,y,cv=10, scoring ='accuracy')\n",
    "    k_scores.append(scores.mean())\n",
    "    \n",
    "print  (k_scores)\n",
    "plt.plot(k_range, k_scores)"
   ]
  },
  {
   "cell_type": "markdown",
   "metadata": {},
   "source": [
    "Trying GridSearchCV for optimal n_neighbor value in KNN"
   ]
  },
  {
   "cell_type": "code",
   "execution_count": 19,
   "metadata": {},
   "outputs": [
    {
     "data": {
      "text/plain": [
       "GridSearchCV(cv=10, error_score='raise',\n",
       "       estimator=KNeighborsClassifier(algorithm='auto', leaf_size=30, metric='minkowski',\n",
       "           metric_params=None, n_jobs=1, n_neighbors=39, p=2,\n",
       "           weights='uniform'),\n",
       "       fit_params=None, iid=True, n_jobs=1,\n",
       "       param_grid={'n_neighbors': [1, 2, 3, 4, 5, 6, 7, 8, 9, 10, 11, 12, 13, 14, 15, 16, 17, 18, 19, 20, 21, 22, 23, 24, 25, 26, 27, 28, 29, 30]},\n",
       "       pre_dispatch='2*n_jobs', refit=True, return_train_score=True,\n",
       "       scoring='accuracy', verbose=0)"
      ]
     },
     "execution_count": 19,
     "metadata": {},
     "output_type": "execute_result"
    }
   ],
   "source": [
    "from sklearn.model_selection import GridSearchCV\n",
    "\n",
    "k_range = list(range (1,31))\n",
    "param_grid = dict(n_neighbors = k_range)\n",
    "\n",
    "grid = GridSearchCV(knn, param_grid, cv = 10, scoring = 'accuracy')\n",
    "\n",
    "grid.fit (X,y)"
   ]
  },
  {
   "cell_type": "code",
   "execution_count": 20,
   "metadata": {},
   "outputs": [
    {
     "name": "stdout",
     "output_type": "stream",
     "text": [
      "0.740740740741\n",
      "{'n_neighbors': 3}\n",
      "KNeighborsClassifier(algorithm='auto', leaf_size=30, metric='minkowski',\n",
      "           metric_params=None, n_jobs=1, n_neighbors=3, p=2,\n",
      "           weights='uniform')\n"
     ]
    }
   ],
   "source": [
    "# examine best model\n",
    "print (grid.best_score_)\n",
    "print (grid.best_params_)\n",
    "print (grid.best_estimator_)"
   ]
  },
  {
   "cell_type": "code",
   "execution_count": 22,
   "metadata": {
    "collapsed": true
   },
   "outputs": [],
   "source": [
    "submission = pd.DataFrame({\n",
    "    'PassengerId':test_df['PassengerId'],\n",
    "    'Survived':y_pred\n",
    "})\n",
    "#Save Submission to file\n",
    "submission.to_csv('./jay_submission_v7.csv', index = False)"
   ]
  },
  {
   "cell_type": "markdown",
   "metadata": {
    "collapsed": true
   },
   "source": [
    "*** SVC ***"
   ]
  },
  {
   "cell_type": "code",
   "execution_count": 23,
   "metadata": {
    "scrolled": true
   },
   "outputs": [
    {
     "name": "stdout",
     "output_type": "stream",
     "text": [
      "Mean Score:  0.754490693451\n",
      "[ 0.68888889  0.66666667  0.73033708  0.80898876  0.76404494  0.71910112\n",
      "  0.7752809   0.79775281  0.74157303  0.85227273]\n"
     ]
    }
   ],
   "source": [
    "from sklearn import svm\n",
    "\n",
    "svc = svm.SVC()\n",
    "\n",
    "scores = cross_val_score(svc, X, y, cv=10, scoring = 'accuracy')\n",
    "\n",
    "print ('Mean Score: ', scores.mean())\n",
    "print (scores)"
   ]
  },
  {
   "cell_type": "markdown",
   "metadata": {
    "collapsed": true
   },
   "source": [
    "*** Stochastic Gradient Descent ***"
   ]
  },
  {
   "cell_type": "code",
   "execution_count": 27,
   "metadata": {
    "scrolled": true
   },
   "outputs": [
    {
     "name": "stdout",
     "output_type": "stream",
     "text": [
      "Mean Score:  0.689345136761\n",
      "[ 0.61111111  0.64444444  0.70786517  0.61797753  0.6741573   0.78651685\n",
      "  0.76404494  0.69662921  0.61797753  0.77272727]\n"
     ]
    },
    {
     "name": "stderr",
     "output_type": "stream",
     "text": [
      "C:\\Users\\Jay\\Anaconda3\\lib\\site-packages\\sklearn\\linear_model\\stochastic_gradient.py:84: FutureWarning: max_iter and tol parameters have been added in <class 'sklearn.linear_model.stochastic_gradient.SGDClassifier'> in 0.19. If both are left unset, they default to max_iter=5 and tol=None. If tol is not None, max_iter defaults to max_iter=1000. From 0.21, default max_iter will be 1000, and default tol will be 1e-3.\n",
      "  \"and default tol will be 1e-3.\" % type(self), FutureWarning)\n"
     ]
    }
   ],
   "source": [
    "from sklearn.linear_model import SGDClassifier\n",
    "\n",
    "sgdc = SGDClassifier()\n",
    "\n",
    "scores = cross_val_score(sgdc, X, y, cv=10, scoring = 'accuracy')\n",
    "\n",
    "print ('Mean Score: ', scores.mean())\n",
    "print (scores)"
   ]
  },
  {
   "cell_type": "code",
   "execution_count": 28,
   "metadata": {},
   "outputs": [
    {
     "data": {
      "text/plain": [
       "SGDClassifier(alpha=0.0001, average=False, class_weight=None, epsilon=0.1,\n",
       "       eta0=0.0, fit_intercept=True, l1_ratio=0.15,\n",
       "       learning_rate='optimal', loss='hinge', max_iter=5, n_iter=None,\n",
       "       n_jobs=1, penalty='l2', power_t=0.5, random_state=None,\n",
       "       shuffle=True, tol=None, verbose=0, warm_start=False)"
      ]
     },
     "execution_count": 28,
     "metadata": {},
     "output_type": "execute_result"
    }
   ],
   "source": [
    "sgdc"
   ]
  },
  {
   "cell_type": "markdown",
   "metadata": {},
   "source": [
    "## Winning Model Seems to be Logistic Regression:"
   ]
  },
  {
   "cell_type": "code",
   "execution_count": 11,
   "metadata": {
    "collapsed": true
   },
   "outputs": [],
   "source": [
    "logreg.fit(X,y)\n",
    "y_pred = logreg.predict(X_tst)\n",
    "\n",
    "knn = KNeighborsClassifier (n_neighbors = 3)\n",
    "knn.fit (X,y)\n",
    "y_pred = knn.predict(X_tst)"
   ]
  },
  {
   "cell_type": "code",
   "execution_count": 12,
   "metadata": {
    "collapsed": true
   },
   "outputs": [],
   "source": [
    "submission = pd.DataFrame({'PassengerId':test_df['PassengerId'],\n",
    "    'Survived':y_pred})"
   ]
  },
  {
   "cell_type": "code",
   "execution_count": 13,
   "metadata": {
    "collapsed": true
   },
   "outputs": [],
   "source": [
    "submission.to_csv('./jay_submission_v6.csv', index=False)"
   ]
  }
 ],
 "metadata": {
  "kernelspec": {
   "display_name": "Python 3",
   "language": "python",
   "name": "python3"
  },
  "language_info": {
   "codemirror_mode": {
    "name": "ipython",
    "version": 3
   },
   "file_extension": ".py",
   "mimetype": "text/x-python",
   "name": "python",
   "nbconvert_exporter": "python",
   "pygments_lexer": "ipython3",
   "version": "3.6.2"
  }
 },
 "nbformat": 4,
 "nbformat_minor": 2
}
