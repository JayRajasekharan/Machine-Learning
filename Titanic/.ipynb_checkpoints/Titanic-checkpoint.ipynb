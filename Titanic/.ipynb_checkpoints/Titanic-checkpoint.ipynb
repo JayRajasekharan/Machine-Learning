{
 "cells": [
  {
   "cell_type": "markdown",
   "metadata": {},
   "source": [
    "# Table of Contents\n",
    "\n",
    "1. [Introduction](#1.)<br>\n",
    "2. [Import data and libraries](#2.)<br>\n",
    "    2.1.[Python libraries](#2.1.)<br>\n",
    "    2.2.[Load dataset](#2.2.)<br>\n",
    "    2.3.[Data Dictionary](#2.3.)<br>\n",
    "    2.4.[Describe dataset](#2.4.)<br>\n",
    "3. [Exploratory analysis & Feature engineering](#3.)<br>\n",
    "    3.1. [Sex](#3.1.)<br>\n",
    "    3.2. [Age and Age_bracket (new feature)](#3.2.)<br>\n",
    "    3.3. [PClass](#3.3.)<br>\n",
    "    3.4. [Embarked](#3.4.)<br>\n",
    "    3.5. [Cabin and Deck (new feature)](#3.5.)<br>\n",
    "    3.6. [Parch, SibSp, and FamilySize (new feature)](#3.6.)<br>\n",
    "    3.7. [Fare and Fare_bracket (new feature)](#3.7.)<br>\n",
    "    3.8. [Title](#3.8.)<br>\n",
    "4. [Machine Learning Model](#4.)<br>\n",
    "    4.1. [Create feature and response list](#4.1.)<br>\n",
    "    4.2. [Logistic Regression](#4.2.)<br>\n",
    "    4.3. [K-Nearest Neighbors](#4.3.)<br>\n",
    "    4.4. [Decision Tress](#4.4.)<br>\n",
    "    4.5. [SVC](#4.5.)<br>\n",
    "    4.6. [Random Forest](#4.6.)<br>\n",
    "5. [Evaluation](#5.)<br>\n"
   ]
  },
  {
   "cell_type": "markdown",
   "metadata": {},
   "source": [
    "----\n",
    "# 1. Introduction <a id=\"1.\"></a>"
   ]
  },
  {
   "cell_type": "markdown",
   "metadata": {},
   "source": [
    "In this notebook I will be exploring the Titanic dataset on Kaggle to create a model that can predict which passengers survived the tragedy.\n",
    "\n",
    "**Competetion Description**\n",
    "\n",
    "Kaggle: https://www.kaggle.com/c/titanic\n",
    ">The sinking of the RMS Titanic is one of the most infamous shipwrecks in history.  On April 15, 1912, during her maiden voyage, the Titanic sank after colliding with an iceberg, killing 1502 out of 2224 passengers and crew. This sensational tragedy shocked the international community and led to better safety regulations for ships. \n",
    "\n",
    "> One of the reasons that the shipwreck led to such loss of life was that there were not enough lifeboats for the passengers and crew. Although there was some element of luck involved in surviving the sinking, some groups of people were more likely to survive than others, such as women, children, and the upper-class.\n"
   ]
  },
  {
   "cell_type": "markdown",
   "metadata": {},
   "source": [
    "----\n",
    "# 2. Import Data and Libraries<a id=\"2.\"></a>\n",
    "## 2.1. Python Libraries<a id=\"2.1.\"></a>"
   ]
  },
  {
   "cell_type": "code",
   "execution_count": 1,
   "metadata": {},
   "outputs": [],
   "source": [
    "# Data wrangling\n",
    "import pandas as pd\n",
    "import numpy as np\n",
    "\n",
    "# Data visualizatoin\n",
    "import matplotlib\n",
    "import matplotlib.pyplot as plt\n",
    "import seaborn as sns\n",
    "%matplotlib inline\n",
    "matplotlib.style.use('ggplot')\n",
    "\n",
    "# Machine Learnings\n",
    "from sklearn.model_selection import cross_val_score\n",
    "from sklearn.model_selection import GridSearchCV\n",
    "from sklearn.linear_model import LogisticRegression\n",
    "from sklearn.neighbors import KNeighborsClassifier\n",
    "from sklearn.tree import DecisionTreeClassifier\n",
    "from sklearn.svm import SVC\n",
    "from sklearn.ensemble import RandomForestClassifier\n",
    "\n"
   ]
  },
  {
   "cell_type": "markdown",
   "metadata": {},
   "source": [
    "## 2.2. Load Dataset<a id=\"2.2.\"></a>"
   ]
  },
  {
   "cell_type": "code",
   "execution_count": 2,
   "metadata": {
    "collapsed": true,
    "scrolled": true
   },
   "outputs": [],
   "source": [
    "train_df = pd.read_csv('./Data/train.csv')\n",
    "test_df = pd.read_csv('./Data/test.csv')\n",
    "\n",
    "datasets = [train_df, test_df] # useful for performing operations on both dataframes"
   ]
  },
  {
   "cell_type": "markdown",
   "metadata": {},
   "source": [
    "## 2.3. Data Dictionary<a id=\"2.3.\"></a>\n",
    "\n",
    "**`Variable:`  Definition**\n",
    "- `survival:` Survival\t\n",
    "- `pclass:` Ticket class. A proxy for socio-economic status (SES)\n",
    "\n",
    "        1st = Upper\n",
    "        2nd = Middle\n",
    "        3rd = Lower\t\n",
    "- `sex:` Male/Female\t\n",
    "- `Age:` Age in years. Age is fractional if less than 1. If the age is estimated, is it in the form of xx.5\t\n",
    "- `sibsp:` # of siblings / spouses aboard the Titanic The dataset defines family relations in this way...\n",
    "        \n",
    "        Sibling = brother, sister, stepbrother, stepsister\n",
    "        Spouse = husband, wife (mistresses and fiancés were\t\n",
    "- `parch:` # of parents / children aboard the Titanic. The dataset defines family relations in this way...\n",
    "\n",
    "        Parent = mother, father\n",
    "        Child = daughter, son, stepdaughter, stepson\n",
    "        Some children travelled only with a nanny, therefore parch=0 for them.\t\n",
    "- `ticket:` Ticket number\t\n",
    "- `fare:` Passenger fare\t\n",
    "- `cabin:` Cabin number\t\n",
    "- `embarked:` Port of Embarkation (C = Cherbourg, Q = Queenstown, S = Southampton)\n",
    "\n",
    "**Key**\n",
    "- 0 = No, 1 = Yes\n",
    "- 1 = 1st, 2 = 2nd, 3 = 3rd"
   ]
  },
  {
   "cell_type": "markdown",
   "metadata": {},
   "source": [
    "## 2.4. Describe the data set<a id=\"2.4.\"></a>\n",
    "\n",
    "- Catagorical features: `Survived`, `Pclass`, `Sex`, `Cabin`, `Embarked`\n",
    "- Nuberical features: `Age`, `Fare`, `SibSp`, `Parch`\n",
    "- 891 total passengers. 64.7% were male (577 freq), 35.2% were female (314 freq)\n",
    "- Around 38.4% of the passengers survived. Real survivor rate was ~32%\n",
    "- There is a lot of duplication in the `ticket` feature (23.5% duplicates, 681 unique entries)\n",
    "- There are 3 possible port in the `Embarked` feature\n",
    "- `Age`, `Cabin`, and `Embarked` have missing values. They will be addressed below\n"
   ]
  },
  {
   "cell_type": "code",
   "execution_count": 3,
   "metadata": {
    "scrolled": true
   },
   "outputs": [
    {
     "name": "stdout",
     "output_type": "stream",
     "text": [
      "---------------Train---------------\n",
      "<class 'pandas.core.frame.DataFrame'>\n",
      "RangeIndex: 891 entries, 0 to 890\n",
      "Data columns (total 12 columns):\n",
      "PassengerId    891 non-null int64\n",
      "Survived       891 non-null int64\n",
      "Pclass         891 non-null int64\n",
      "Name           891 non-null object\n",
      "Sex            891 non-null object\n",
      "Age            714 non-null float64\n",
      "SibSp          891 non-null int64\n",
      "Parch          891 non-null int64\n",
      "Ticket         891 non-null object\n",
      "Fare           891 non-null float64\n",
      "Cabin          204 non-null object\n",
      "Embarked       889 non-null object\n",
      "dtypes: float64(2), int64(5), object(5)\n",
      "memory usage: 83.6+ KB\n",
      "None\n",
      "---------------Test---------------\n",
      "<class 'pandas.core.frame.DataFrame'>\n",
      "RangeIndex: 418 entries, 0 to 417\n",
      "Data columns (total 11 columns):\n",
      "PassengerId    418 non-null int64\n",
      "Pclass         418 non-null int64\n",
      "Name           418 non-null object\n",
      "Sex            418 non-null object\n",
      "Age            332 non-null float64\n",
      "SibSp          418 non-null int64\n",
      "Parch          418 non-null int64\n",
      "Ticket         418 non-null object\n",
      "Fare           417 non-null float64\n",
      "Cabin          91 non-null object\n",
      "Embarked       418 non-null object\n",
      "dtypes: float64(2), int64(4), object(5)\n",
      "memory usage: 36.0+ KB\n",
      "None\n"
     ]
    }
   ],
   "source": [
    "print ('-'*15 + 'Train' + '-'*15)\n",
    "print(train_df.info())\n",
    "print ('-'*15 + 'Test' + '-'*15)\n",
    "print(test_df.info())"
   ]
  },
  {
   "cell_type": "code",
   "execution_count": 4,
   "metadata": {
    "scrolled": true
   },
   "outputs": [
    {
     "data": {
      "text/html": [
       "<div>\n",
       "<style>\n",
       "    .dataframe thead tr:only-child th {\n",
       "        text-align: right;\n",
       "    }\n",
       "\n",
       "    .dataframe thead th {\n",
       "        text-align: left;\n",
       "    }\n",
       "\n",
       "    .dataframe tbody tr th {\n",
       "        vertical-align: top;\n",
       "    }\n",
       "</style>\n",
       "<table border=\"1\" class=\"dataframe\">\n",
       "  <thead>\n",
       "    <tr style=\"text-align: right;\">\n",
       "      <th></th>\n",
       "      <th>PassengerId</th>\n",
       "      <th>Survived</th>\n",
       "      <th>Pclass</th>\n",
       "      <th>Age</th>\n",
       "      <th>SibSp</th>\n",
       "      <th>Parch</th>\n",
       "      <th>Fare</th>\n",
       "    </tr>\n",
       "  </thead>\n",
       "  <tbody>\n",
       "    <tr>\n",
       "      <th>count</th>\n",
       "      <td>891.000000</td>\n",
       "      <td>891.000000</td>\n",
       "      <td>891.000000</td>\n",
       "      <td>714.000000</td>\n",
       "      <td>891.000000</td>\n",
       "      <td>891.000000</td>\n",
       "      <td>891.000000</td>\n",
       "    </tr>\n",
       "    <tr>\n",
       "      <th>mean</th>\n",
       "      <td>446.000000</td>\n",
       "      <td>0.383838</td>\n",
       "      <td>2.308642</td>\n",
       "      <td>29.699118</td>\n",
       "      <td>0.523008</td>\n",
       "      <td>0.381594</td>\n",
       "      <td>32.204208</td>\n",
       "    </tr>\n",
       "    <tr>\n",
       "      <th>std</th>\n",
       "      <td>257.353842</td>\n",
       "      <td>0.486592</td>\n",
       "      <td>0.836071</td>\n",
       "      <td>14.526497</td>\n",
       "      <td>1.102743</td>\n",
       "      <td>0.806057</td>\n",
       "      <td>49.693429</td>\n",
       "    </tr>\n",
       "    <tr>\n",
       "      <th>min</th>\n",
       "      <td>1.000000</td>\n",
       "      <td>0.000000</td>\n",
       "      <td>1.000000</td>\n",
       "      <td>0.420000</td>\n",
       "      <td>0.000000</td>\n",
       "      <td>0.000000</td>\n",
       "      <td>0.000000</td>\n",
       "    </tr>\n",
       "    <tr>\n",
       "      <th>25%</th>\n",
       "      <td>223.500000</td>\n",
       "      <td>0.000000</td>\n",
       "      <td>2.000000</td>\n",
       "      <td>20.125000</td>\n",
       "      <td>0.000000</td>\n",
       "      <td>0.000000</td>\n",
       "      <td>7.910400</td>\n",
       "    </tr>\n",
       "    <tr>\n",
       "      <th>50%</th>\n",
       "      <td>446.000000</td>\n",
       "      <td>0.000000</td>\n",
       "      <td>3.000000</td>\n",
       "      <td>28.000000</td>\n",
       "      <td>0.000000</td>\n",
       "      <td>0.000000</td>\n",
       "      <td>14.454200</td>\n",
       "    </tr>\n",
       "    <tr>\n",
       "      <th>75%</th>\n",
       "      <td>668.500000</td>\n",
       "      <td>1.000000</td>\n",
       "      <td>3.000000</td>\n",
       "      <td>38.000000</td>\n",
       "      <td>1.000000</td>\n",
       "      <td>0.000000</td>\n",
       "      <td>31.000000</td>\n",
       "    </tr>\n",
       "    <tr>\n",
       "      <th>max</th>\n",
       "      <td>891.000000</td>\n",
       "      <td>1.000000</td>\n",
       "      <td>3.000000</td>\n",
       "      <td>80.000000</td>\n",
       "      <td>8.000000</td>\n",
       "      <td>6.000000</td>\n",
       "      <td>512.329200</td>\n",
       "    </tr>\n",
       "  </tbody>\n",
       "</table>\n",
       "</div>"
      ],
      "text/plain": [
       "       PassengerId    Survived      Pclass         Age       SibSp  \\\n",
       "count   891.000000  891.000000  891.000000  714.000000  891.000000   \n",
       "mean    446.000000    0.383838    2.308642   29.699118    0.523008   \n",
       "std     257.353842    0.486592    0.836071   14.526497    1.102743   \n",
       "min       1.000000    0.000000    1.000000    0.420000    0.000000   \n",
       "25%     223.500000    0.000000    2.000000   20.125000    0.000000   \n",
       "50%     446.000000    0.000000    3.000000   28.000000    0.000000   \n",
       "75%     668.500000    1.000000    3.000000   38.000000    1.000000   \n",
       "max     891.000000    1.000000    3.000000   80.000000    8.000000   \n",
       "\n",
       "            Parch        Fare  \n",
       "count  891.000000  891.000000  \n",
       "mean     0.381594   32.204208  \n",
       "std      0.806057   49.693429  \n",
       "min      0.000000    0.000000  \n",
       "25%      0.000000    7.910400  \n",
       "50%      0.000000   14.454200  \n",
       "75%      0.000000   31.000000  \n",
       "max      6.000000  512.329200  "
      ]
     },
     "execution_count": 4,
     "metadata": {},
     "output_type": "execute_result"
    }
   ],
   "source": [
    "train_df.describe()"
   ]
  },
  {
   "cell_type": "code",
   "execution_count": 5,
   "metadata": {},
   "outputs": [
    {
     "data": {
      "text/html": [
       "<div>\n",
       "<style>\n",
       "    .dataframe thead tr:only-child th {\n",
       "        text-align: right;\n",
       "    }\n",
       "\n",
       "    .dataframe thead th {\n",
       "        text-align: left;\n",
       "    }\n",
       "\n",
       "    .dataframe tbody tr th {\n",
       "        vertical-align: top;\n",
       "    }\n",
       "</style>\n",
       "<table border=\"1\" class=\"dataframe\">\n",
       "  <thead>\n",
       "    <tr style=\"text-align: right;\">\n",
       "      <th></th>\n",
       "      <th>Name</th>\n",
       "      <th>Sex</th>\n",
       "      <th>Ticket</th>\n",
       "      <th>Cabin</th>\n",
       "      <th>Embarked</th>\n",
       "    </tr>\n",
       "  </thead>\n",
       "  <tbody>\n",
       "    <tr>\n",
       "      <th>count</th>\n",
       "      <td>891</td>\n",
       "      <td>891</td>\n",
       "      <td>891</td>\n",
       "      <td>204</td>\n",
       "      <td>889</td>\n",
       "    </tr>\n",
       "    <tr>\n",
       "      <th>unique</th>\n",
       "      <td>891</td>\n",
       "      <td>2</td>\n",
       "      <td>681</td>\n",
       "      <td>147</td>\n",
       "      <td>3</td>\n",
       "    </tr>\n",
       "    <tr>\n",
       "      <th>top</th>\n",
       "      <td>Baxter, Mr. Quigg Edmond</td>\n",
       "      <td>male</td>\n",
       "      <td>347082</td>\n",
       "      <td>G6</td>\n",
       "      <td>S</td>\n",
       "    </tr>\n",
       "    <tr>\n",
       "      <th>freq</th>\n",
       "      <td>1</td>\n",
       "      <td>577</td>\n",
       "      <td>7</td>\n",
       "      <td>4</td>\n",
       "      <td>644</td>\n",
       "    </tr>\n",
       "  </tbody>\n",
       "</table>\n",
       "</div>"
      ],
      "text/plain": [
       "                            Name   Sex  Ticket Cabin Embarked\n",
       "count                        891   891     891   204      889\n",
       "unique                       891     2     681   147        3\n",
       "top     Baxter, Mr. Quigg Edmond  male  347082    G6        S\n",
       "freq                           1   577       7     4      644"
      ]
     },
     "execution_count": 5,
     "metadata": {},
     "output_type": "execute_result"
    }
   ],
   "source": [
    "train_df.describe(include=['O'])"
   ]
  },
  {
   "cell_type": "markdown",
   "metadata": {},
   "source": [
    "-----\n",
    "# 3. Exploratory analysis & Feature engineering<a id=\"3.\"></a>\n",
    "\n",
    "Let's view the influence of the each feature on the Survival rate. As we go through the features, we will be applying feature engineering and data manupilation techniques to both `train_df` and `test_df` by iterating through the `datasets` list."
   ]
  },
  {
   "cell_type": "markdown",
   "metadata": {},
   "source": [
    "**Overall Survival Rate**\n",
    "\n",
    "Lets start by reviewing the overall Surival rate of the passengers. This will be a useful baseline to measure the influence of each feature on the survival chance. "
   ]
  },
  {
   "cell_type": "code",
   "execution_count": 6,
   "metadata": {
    "scrolled": false
   },
   "outputs": [
    {
     "name": "stdout",
     "output_type": "stream",
     "text": [
      "0.3838383838383838\n"
     ]
    }
   ],
   "source": [
    "pct_survived = train_df.Survived.mean()\n",
    "print (pct_survived)"
   ]
  },
  {
   "cell_type": "markdown",
   "metadata": {},
   "source": [
    "Let's define a helper function that will plot each feature against the Surival Rate:"
   ]
  },
  {
   "cell_type": "code",
   "execution_count": 7,
   "metadata": {
    "collapsed": true
   },
   "outputs": [],
   "source": [
    "def plot_helper (dataframe, title, baseline):\n",
    "    '''\n",
    "    Helper funcion for plotting\n",
    "    '''\n",
    "    ax = dataframe.plot(kind = \"barh\", figsize =(7,5), xlim=(0.0,1.0))\n",
    "    ax.set_title (title)\n",
    "    ax.axvline(x=baseline, color ='g',linestyle='--', label='Overall Surivival %')\n",
    "    ax.legend()\n",
    "    for p in ax.patches:\n",
    "        ax.annotate (str(round(p.get_width(),3)),\n",
    "                     xy=(p.get_x()+0.02, p.get_y()+p.get_height()/2.5),\n",
    "                     color = \"white\" )\n",
    "    plt.show()"
   ]
  },
  {
   "cell_type": "markdown",
   "metadata": {},
   "source": [
    "## 3.1. `Sex`<a id=\"3.1.\"></a>\n",
    "\n",
    "Let's map the Sex feature as follows: Male = 1 and Female = 0. And lets review the survival rate based on gender in the `train` dataset."
   ]
  },
  {
   "cell_type": "code",
   "execution_count": 8,
   "metadata": {
    "scrolled": true
   },
   "outputs": [
    {
     "data": {
      "text/plain": [
       "1    577\n",
       "0    314\n",
       "Name: Sex, dtype: int64"
      ]
     },
     "execution_count": 8,
     "metadata": {},
     "output_type": "execute_result"
    }
   ],
   "source": [
    "# Change Sex to 1=male, 0=female\n",
    "for df in datasets:\n",
    "    df['Sex'] = df['Sex'].map({'male': 1, 'female':0})\n",
    "\n",
    "train_df.Sex.value_counts()\n",
    "#test_df.Sex.value_counts()"
   ]
  },
  {
   "cell_type": "code",
   "execution_count": 9,
   "metadata": {},
   "outputs": [
    {
     "data": {
      "image/png": "[encoded data removed]",
      "text/plain": [
       "<matplotlib.figure.Figure at 0x19dff1adb00>"
      ]
     },
     "metadata": {},
     "output_type": "display_data"
    }
   ],
   "source": [
    "plot_helper(train_df[['Sex','Survived']].groupby(['Sex']).mean(),\n",
    "            \"Sex vs Probabilty of Survival\",pct_survived)"
   ]
  },
  {
   "cell_type": "markdown",
   "metadata": {},
   "source": [
    "## 3.2. `Age` and *`Age_bracket (new feature)`*<a id=\"3.2.\"></a>\n",
    "\n",
    "Fill the missing ages with the mean age of the each gender in the `train` and `test` datasets"
   ]
  },
  {
   "cell_type": "code",
   "execution_count": 10,
   "metadata": {},
   "outputs": [
    {
     "data": {
      "text/html": [
       "<div>\n",
       "<style>\n",
       "    .dataframe thead tr:only-child th {\n",
       "        text-align: right;\n",
       "    }\n",
       "\n",
       "    .dataframe thead th {\n",
       "        text-align: left;\n",
       "    }\n",
       "\n",
       "    .dataframe tbody tr th {\n",
       "        vertical-align: top;\n",
       "    }\n",
       "</style>\n",
       "<table border=\"1\" class=\"dataframe\">\n",
       "  <thead>\n",
       "    <tr style=\"text-align: right;\">\n",
       "      <th></th>\n",
       "      <th>Test</th>\n",
       "      <th>Train</th>\n",
       "    </tr>\n",
       "  </thead>\n",
       "  <tbody>\n",
       "    <tr>\n",
       "      <th>count</th>\n",
       "      <td>418.000000</td>\n",
       "      <td>891.000000</td>\n",
       "    </tr>\n",
       "    <tr>\n",
       "      <th>mean</th>\n",
       "      <td>30.272597</td>\n",
       "      <td>29.736034</td>\n",
       "    </tr>\n",
       "    <tr>\n",
       "      <th>std</th>\n",
       "      <td>12.634534</td>\n",
       "      <td>13.014897</td>\n",
       "    </tr>\n",
       "    <tr>\n",
       "      <th>min</th>\n",
       "      <td>0.170000</td>\n",
       "      <td>0.420000</td>\n",
       "    </tr>\n",
       "    <tr>\n",
       "      <th>25%</th>\n",
       "      <td>23.000000</td>\n",
       "      <td>22.000000</td>\n",
       "    </tr>\n",
       "    <tr>\n",
       "      <th>50%</th>\n",
       "      <td>30.272362</td>\n",
       "      <td>30.000000</td>\n",
       "    </tr>\n",
       "    <tr>\n",
       "      <th>75%</th>\n",
       "      <td>35.750000</td>\n",
       "      <td>35.000000</td>\n",
       "    </tr>\n",
       "    <tr>\n",
       "      <th>max</th>\n",
       "      <td>76.000000</td>\n",
       "      <td>80.000000</td>\n",
       "    </tr>\n",
       "  </tbody>\n",
       "</table>\n",
       "</div>"
      ],
      "text/plain": [
       "             Test       Train\n",
       "count  418.000000  891.000000\n",
       "mean    30.272597   29.736034\n",
       "std     12.634534   13.014897\n",
       "min      0.170000    0.420000\n",
       "25%     23.000000   22.000000\n",
       "50%     30.272362   30.000000\n",
       "75%     35.750000   35.000000\n",
       "max     76.000000   80.000000"
      ]
     },
     "execution_count": 10,
     "metadata": {},
     "output_type": "execute_result"
    }
   ],
   "source": [
    "for df in datasets:\n",
    "    # Calculate the mean ages for male and female passengers\n",
    "    mean_female_age = df.groupby(['Sex']).mean().loc[0,'Age']\n",
    "    mean_male_age = df.groupby(['Sex']).mean().loc[1,'Age']\n",
    "   \n",
    "    df.loc[(df.Sex == 0) & (df.Age.isnull()),'Age'] = mean_female_age # Female & Null age\n",
    "    df.loc[(df.Sex == 1) & (df.Age.isnull()),'Age'] = mean_male_age # Male & Null age\n",
    "    \n",
    "# Summarize age in the test and train datasets:\n",
    "pd.DataFrame({'Train':train_df.Age.describe(),'Test':test_df.Age.describe()})"
   ]
  },
  {
   "cell_type": "markdown",
   "metadata": {},
   "source": [
    "Looks like the vast majority of the passengers were under 36 years of age. To better analyze the influent of age on survivability, let us split it into brackets based on decades."
   ]
  },
  {
   "cell_type": "code",
   "execution_count": 11,
   "metadata": {
    "scrolled": true
   },
   "outputs": [
    {
     "data": {
      "text/plain": [
       "[20-30)    283\n",
       "[30-40)    279\n",
       "[10-20)    115\n",
       "[40-50)     86\n",
       "[0-10)      64\n",
       "[50-60)     42\n",
       "[60+)       22\n",
       "Name: Age_bracket, dtype: int64"
      ]
     },
     "execution_count": 11,
     "metadata": {},
     "output_type": "execute_result"
    }
   ],
   "source": [
    "for df in datasets:\n",
    "    df['Age_bracket'] = pd.cut(df['Age'], [0,10,20,30,40,50,60,100],\n",
    "                              labels = ['[0-10)','[10-20)','[20-30)','[30-40)','[40-50)','[50-60)','[60+)'])\n",
    "\n",
    "train_df.Age_bracket.value_counts()"
   ]
  },
  {
   "cell_type": "code",
   "execution_count": 12,
   "metadata": {
    "scrolled": true
   },
   "outputs": [
    {
     "data": {
      "image/png": "[encoded data removed]",
      "text/plain": [
       "<matplotlib.figure.Figure at 0x19dff281e48>"
      ]
     },
     "metadata": {},
     "output_type": "display_data"
    }
   ],
   "source": [
    "plot_helper(train_df[['Age_bracket','Survived']].groupby(['Age_bracket']).mean(),\n",
    "            \"Age vs Probabilty of Survival\", pct_survived)"
   ]
  },
  {
   "cell_type": "markdown",
   "metadata": {},
   "source": [
    "## 3.3. `PClass`<a id=\"3.3.\"></a>\n",
    "\n",
    "There are 3 classes of tickets with the vast majority of the passengers travelling in 3rd class. "
   ]
  },
  {
   "cell_type": "code",
   "execution_count": 13,
   "metadata": {},
   "outputs": [
    {
     "data": {
      "text/html": [
       "<div>\n",
       "<style>\n",
       "    .dataframe thead tr:only-child th {\n",
       "        text-align: right;\n",
       "    }\n",
       "\n",
       "    .dataframe thead th {\n",
       "        text-align: left;\n",
       "    }\n",
       "\n",
       "    .dataframe tbody tr th {\n",
       "        vertical-align: top;\n",
       "    }\n",
       "</style>\n",
       "<table border=\"1\" class=\"dataframe\">\n",
       "  <thead>\n",
       "    <tr style=\"text-align: right;\">\n",
       "      <th></th>\n",
       "      <th>PassengerId</th>\n",
       "    </tr>\n",
       "    <tr>\n",
       "      <th>Pclass</th>\n",
       "      <th></th>\n",
       "    </tr>\n",
       "  </thead>\n",
       "  <tbody>\n",
       "    <tr>\n",
       "      <th>1</th>\n",
       "      <td>216</td>\n",
       "    </tr>\n",
       "    <tr>\n",
       "      <th>2</th>\n",
       "      <td>184</td>\n",
       "    </tr>\n",
       "    <tr>\n",
       "      <th>3</th>\n",
       "      <td>491</td>\n",
       "    </tr>\n",
       "  </tbody>\n",
       "</table>\n",
       "</div>"
      ],
      "text/plain": [
       "        PassengerId\n",
       "Pclass             \n",
       "1               216\n",
       "2               184\n",
       "3               491"
      ]
     },
     "execution_count": 13,
     "metadata": {},
     "output_type": "execute_result"
    }
   ],
   "source": [
    "train_df[['Pclass','PassengerId']].groupby(['Pclass']).count()"
   ]
  },
  {
   "cell_type": "markdown",
   "metadata": {},
   "source": [
    "We can hypothesize that the survival rate would decrease as we went from 1st class to 3rd class. Lets plot the surivival rate for each class:"
   ]
  },
  {
   "cell_type": "code",
   "execution_count": 14,
   "metadata": {},
   "outputs": [
    {
     "data": {
      "image/png": "[encoded data removed]",
      "text/plain": [
       "<matplotlib.figure.Figure at 0x19dff27f630>"
      ]
     },
     "metadata": {},
     "output_type": "display_data"
    }
   ],
   "source": [
    "plot_helper(train_df[['Pclass','Survived']].groupby(['Pclass']).mean(),\n",
    "            \"Pclass vs Probabilty of Survival\", pct_survived)"
   ]
  },
  {
   "cell_type": "markdown",
   "metadata": {},
   "source": [
    "## 3.4. `Embarked`<a id=\"3.4.\"></a>\n",
    "- There are three ports of Embarkation: \n",
    "  - C = Cherbourg, Q = Queenstown, S = Southampton.\n",
    "- For the missing entries, we will estimate the port of Embarkation based on the most frequent Port."
   ]
  },
  {
   "cell_type": "markdown",
   "metadata": {},
   "source": [
    "(Optional) Review the breakdown of passengers by Port of Embarkation. Most frequent is Southhampton 'S'"
   ]
  },
  {
   "cell_type": "code",
   "execution_count": 15,
   "metadata": {
    "scrolled": false
   },
   "outputs": [
    {
     "data": {
      "text/html": [
       "<div>\n",
       "<style>\n",
       "    .dataframe thead tr:only-child th {\n",
       "        text-align: right;\n",
       "    }\n",
       "\n",
       "    .dataframe thead th {\n",
       "        text-align: left;\n",
       "    }\n",
       "\n",
       "    .dataframe tbody tr th {\n",
       "        vertical-align: top;\n",
       "    }\n",
       "</style>\n",
       "<table border=\"1\" class=\"dataframe\">\n",
       "  <thead>\n",
       "    <tr style=\"text-align: right;\">\n",
       "      <th></th>\n",
       "      <th>Test</th>\n",
       "      <th>Train</th>\n",
       "    </tr>\n",
       "  </thead>\n",
       "  <tbody>\n",
       "    <tr>\n",
       "      <th>S</th>\n",
       "      <td>270</td>\n",
       "      <td>644</td>\n",
       "    </tr>\n",
       "    <tr>\n",
       "      <th>C</th>\n",
       "      <td>102</td>\n",
       "      <td>168</td>\n",
       "    </tr>\n",
       "    <tr>\n",
       "      <th>Q</th>\n",
       "      <td>46</td>\n",
       "      <td>77</td>\n",
       "    </tr>\n",
       "  </tbody>\n",
       "</table>\n",
       "</div>"
      ],
      "text/plain": [
       "   Test  Train\n",
       "S   270    644\n",
       "C   102    168\n",
       "Q    46     77"
      ]
     },
     "execution_count": 15,
     "metadata": {},
     "output_type": "execute_result"
    }
   ],
   "source": [
    "pd.DataFrame({'Train':train_df['Embarked'].value_counts(),\n",
    "             'Test':test_df['Embarked'].value_counts()})"
   ]
  },
  {
   "cell_type": "code",
   "execution_count": 16,
   "metadata": {
    "scrolled": true
   },
   "outputs": [
    {
     "data": {
      "image/png": "[encoded data removed]",
      "text/plain": [
       "<matplotlib.figure.Figure at 0x19dff69dc18>"
      ]
     },
     "metadata": {},
     "output_type": "display_data"
    }
   ],
   "source": [
    "for df in datasets:\n",
    "    df.loc[df.Embarked.isnull(),'Embarked'] = df.Embarked.value_counts().index[0]    \n",
    "\n",
    "plot_helper(train_df[['Embarked','Survived']].groupby(['Embarked']).mean(),\n",
    "        \"Port of Embarkation vs Probabilty of Survival\", pct_survived)"
   ]
  },
  {
   "cell_type": "markdown",
   "metadata": {},
   "source": [
    "## 3.5.  `Cabin` and *`Deck` (new feature)*<a id=\"3.5.\"></a>\n",
    "\n",
    "- Lot of values are missing the Cabin info - only ~23% of the samples have cabin info. \n",
    "- Let us extract the first letter of the `Cabin` to a separate `Deck` column. \n",
    "- For missing samples with missing `Cabin` info, I will categorize the `Deck` as 'U' for Unknown.\n",
    "- A few samples have multiple Cabins per line (eg. B82 B84). For same of simplicity, I will use the first cabin to determine the Deck (B82 `->` Deck B)"
   ]
  },
  {
   "cell_type": "code",
   "execution_count": 17,
   "metadata": {},
   "outputs": [
    {
     "data": {
      "text/html": [
       "<div>\n",
       "<style>\n",
       "    .dataframe thead tr:only-child th {\n",
       "        text-align: right;\n",
       "    }\n",
       "\n",
       "    .dataframe thead th {\n",
       "        text-align: left;\n",
       "    }\n",
       "\n",
       "    .dataframe tbody tr th {\n",
       "        vertical-align: top;\n",
       "    }\n",
       "</style>\n",
       "<table border=\"1\" class=\"dataframe\">\n",
       "  <thead>\n",
       "    <tr style=\"text-align: right;\">\n",
       "      <th></th>\n",
       "      <th>Test</th>\n",
       "      <th>Train</th>\n",
       "    </tr>\n",
       "  </thead>\n",
       "  <tbody>\n",
       "    <tr>\n",
       "      <th>A</th>\n",
       "      <td>7.0</td>\n",
       "      <td>15.0</td>\n",
       "    </tr>\n",
       "    <tr>\n",
       "      <th>B</th>\n",
       "      <td>18.0</td>\n",
       "      <td>47.0</td>\n",
       "    </tr>\n",
       "    <tr>\n",
       "      <th>C</th>\n",
       "      <td>35.0</td>\n",
       "      <td>59.0</td>\n",
       "    </tr>\n",
       "    <tr>\n",
       "      <th>D</th>\n",
       "      <td>13.0</td>\n",
       "      <td>33.0</td>\n",
       "    </tr>\n",
       "    <tr>\n",
       "      <th>E</th>\n",
       "      <td>9.0</td>\n",
       "      <td>32.0</td>\n",
       "    </tr>\n",
       "    <tr>\n",
       "      <th>F</th>\n",
       "      <td>8.0</td>\n",
       "      <td>13.0</td>\n",
       "    </tr>\n",
       "    <tr>\n",
       "      <th>G</th>\n",
       "      <td>1.0</td>\n",
       "      <td>4.0</td>\n",
       "    </tr>\n",
       "    <tr>\n",
       "      <th>T</th>\n",
       "      <td>NaN</td>\n",
       "      <td>1.0</td>\n",
       "    </tr>\n",
       "    <tr>\n",
       "      <th>U</th>\n",
       "      <td>327.0</td>\n",
       "      <td>687.0</td>\n",
       "    </tr>\n",
       "  </tbody>\n",
       "</table>\n",
       "</div>"
      ],
      "text/plain": [
       "    Test  Train\n",
       "A    7.0   15.0\n",
       "B   18.0   47.0\n",
       "C   35.0   59.0\n",
       "D   13.0   33.0\n",
       "E    9.0   32.0\n",
       "F    8.0   13.0\n",
       "G    1.0    4.0\n",
       "T    NaN    1.0\n",
       "U  327.0  687.0"
      ]
     },
     "execution_count": 17,
     "metadata": {},
     "output_type": "execute_result"
    }
   ],
   "source": [
    "for df in datasets:\n",
    "    # Label all NaN Cabin values = Unknown\n",
    "    df.loc[df.Cabin.isnull(), 'Cabin'] = 'Unknown'\n",
    "    \n",
    "    # Take the first letter of the Cabin, and use it as the 'Deck'\n",
    "    df['Deck'] = df.Cabin.map(lambda x: str(x).split()[0][0])\n",
    "    \n",
    "# Summary of the Deck Feature\n",
    "pd.DataFrame({'Train':train_df['Deck'].value_counts(),\n",
    "             'Test':test_df['Deck'].value_counts()}, dtype = np.float64)"
   ]
  },
  {
   "cell_type": "code",
   "execution_count": 18,
   "metadata": {
    "scrolled": false
   },
   "outputs": [
    {
     "data": {
      "image/png": "[encoded data removed]",
      "text/plain": [
       "<matplotlib.figure.Figure at 0x19dff6e82e8>"
      ]
     },
     "metadata": {},
     "output_type": "display_data"
    }
   ],
   "source": [
    "plot_helper(train_df[['Deck','Survived']].groupby(['Deck']).mean(),\n",
    "            \"Deck vs Probabilty of Survival\", pct_survived)"
   ]
  },
  {
   "cell_type": "markdown",
   "metadata": {},
   "source": [
    "## 3.6. `Parch`, `SibSp`, and *`FamilySize` (new feature)*<a id=\"3.6.\"></a>\n",
    "Let us combine the parents, childern, sibilings, spouses info in a new `FamilySize` feature"
   ]
  },
  {
   "cell_type": "code",
   "execution_count": 19,
   "metadata": {},
   "outputs": [
    {
     "data": {
      "text/html": [
       "<div>\n",
       "<style>\n",
       "    .dataframe thead tr:only-child th {\n",
       "        text-align: right;\n",
       "    }\n",
       "\n",
       "    .dataframe thead th {\n",
       "        text-align: left;\n",
       "    }\n",
       "\n",
       "    .dataframe tbody tr th {\n",
       "        vertical-align: top;\n",
       "    }\n",
       "</style>\n",
       "<table border=\"1\" class=\"dataframe\">\n",
       "  <thead>\n",
       "    <tr style=\"text-align: right;\">\n",
       "      <th></th>\n",
       "      <th>Test</th>\n",
       "      <th>Train</th>\n",
       "    </tr>\n",
       "  </thead>\n",
       "  <tbody>\n",
       "    <tr>\n",
       "      <th>1</th>\n",
       "      <td>253.0</td>\n",
       "      <td>537.0</td>\n",
       "    </tr>\n",
       "    <tr>\n",
       "      <th>2</th>\n",
       "      <td>74.0</td>\n",
       "      <td>161.0</td>\n",
       "    </tr>\n",
       "    <tr>\n",
       "      <th>3</th>\n",
       "      <td>57.0</td>\n",
       "      <td>102.0</td>\n",
       "    </tr>\n",
       "    <tr>\n",
       "      <th>4</th>\n",
       "      <td>14.0</td>\n",
       "      <td>29.0</td>\n",
       "    </tr>\n",
       "    <tr>\n",
       "      <th>5</th>\n",
       "      <td>7.0</td>\n",
       "      <td>15.0</td>\n",
       "    </tr>\n",
       "    <tr>\n",
       "      <th>6</th>\n",
       "      <td>3.0</td>\n",
       "      <td>22.0</td>\n",
       "    </tr>\n",
       "    <tr>\n",
       "      <th>7</th>\n",
       "      <td>4.0</td>\n",
       "      <td>12.0</td>\n",
       "    </tr>\n",
       "    <tr>\n",
       "      <th>8</th>\n",
       "      <td>2.0</td>\n",
       "      <td>6.0</td>\n",
       "    </tr>\n",
       "    <tr>\n",
       "      <th>11</th>\n",
       "      <td>4.0</td>\n",
       "      <td>7.0</td>\n",
       "    </tr>\n",
       "  </tbody>\n",
       "</table>\n",
       "</div>"
      ],
      "text/plain": [
       "     Test  Train\n",
       "1   253.0  537.0\n",
       "2    74.0  161.0\n",
       "3    57.0  102.0\n",
       "4    14.0   29.0\n",
       "5     7.0   15.0\n",
       "6     3.0   22.0\n",
       "7     4.0   12.0\n",
       "8     2.0    6.0\n",
       "11    4.0    7.0"
      ]
     },
     "execution_count": 19,
     "metadata": {},
     "output_type": "execute_result"
    }
   ],
   "source": [
    "for df in datasets:\n",
    "    df['FamilySize'] = df['Parch'] + df['SibSp'] + 1   # adding +1 for the person him/herself\n",
    "    \n",
    "# Summary of the FamilySize Feature\n",
    "pd.DataFrame({'Train':train_df['FamilySize'].value_counts(),\n",
    "             'Test':test_df['FamilySize'].value_counts()}, dtype = np.float64)"
   ]
  },
  {
   "cell_type": "markdown",
   "metadata": {},
   "source": [
    "Given that the vast majority of the samples have `FamilySize` <= 4, let us band the FamilySize into the following buckets: 1, 2, 3, 4, 5+ :"
   ]
  },
  {
   "cell_type": "code",
   "execution_count": 20,
   "metadata": {},
   "outputs": [
    {
     "data": {
      "text/html": [
       "<div>\n",
       "<style>\n",
       "    .dataframe thead tr:only-child th {\n",
       "        text-align: right;\n",
       "    }\n",
       "\n",
       "    .dataframe thead th {\n",
       "        text-align: left;\n",
       "    }\n",
       "\n",
       "    .dataframe tbody tr th {\n",
       "        vertical-align: top;\n",
       "    }\n",
       "</style>\n",
       "<table border=\"1\" class=\"dataframe\">\n",
       "  <thead>\n",
       "    <tr style=\"text-align: right;\">\n",
       "      <th></th>\n",
       "      <th>Test</th>\n",
       "      <th>Train</th>\n",
       "    </tr>\n",
       "  </thead>\n",
       "  <tbody>\n",
       "    <tr>\n",
       "      <th>1</th>\n",
       "      <td>253.0</td>\n",
       "      <td>537.0</td>\n",
       "    </tr>\n",
       "    <tr>\n",
       "      <th>2</th>\n",
       "      <td>74.0</td>\n",
       "      <td>161.0</td>\n",
       "    </tr>\n",
       "    <tr>\n",
       "      <th>3</th>\n",
       "      <td>57.0</td>\n",
       "      <td>102.0</td>\n",
       "    </tr>\n",
       "    <tr>\n",
       "      <th>5+</th>\n",
       "      <td>20.0</td>\n",
       "      <td>62.0</td>\n",
       "    </tr>\n",
       "    <tr>\n",
       "      <th>4</th>\n",
       "      <td>14.0</td>\n",
       "      <td>29.0</td>\n",
       "    </tr>\n",
       "  </tbody>\n",
       "</table>\n",
       "</div>"
      ],
      "text/plain": [
       "     Test  Train\n",
       "1   253.0  537.0\n",
       "2    74.0  161.0\n",
       "3    57.0  102.0\n",
       "5+   20.0   62.0\n",
       "4    14.0   29.0"
      ]
     },
     "execution_count": 20,
     "metadata": {},
     "output_type": "execute_result"
    }
   ],
   "source": [
    "for df in datasets:\n",
    "    df.loc[df['FamilySize'] >= 5, 'FamilySize'] = '5+'\n",
    "\n",
    "# Review Summary of the FamilySize Feature\n",
    "pd.DataFrame({'Train':train_df['FamilySize'].value_counts(),\n",
    "             'Test':test_df['FamilySize'].value_counts()}, dtype = np.float64)"
   ]
  },
  {
   "cell_type": "code",
   "execution_count": 21,
   "metadata": {
    "scrolled": true
   },
   "outputs": [
    {
     "data": {
      "image/png": "[encoded data removed]",
      "text/plain": [
       "<matplotlib.figure.Figure at 0x19dff863630>"
      ]
     },
     "metadata": {},
     "output_type": "display_data"
    }
   ],
   "source": [
    "plot_helper(train_df[['FamilySize','Survived']].groupby(['FamilySize']).mean(),\n",
    "            \"FamilySize vs Probabilty of Survival\", pct_survived)"
   ]
  },
  {
   "cell_type": "markdown",
   "metadata": {},
   "source": [
    "## 3.7. `Fare` and *`Fare_bracket (new feature)`*<a id=\"3.7.\"></a>\n",
    "- The test dataset has some null values for the `Fare` feature. We will fill the missing values with the median fare paid.\n",
    "- Passengers who survived paid on average more than double the fare than those who perished (\\$ 48 vs  \\$ 22) \n",
    "- Both `train` and `test` datasets have very similar breakdown in prices (quartile data)"
   ]
  },
  {
   "cell_type": "code",
   "execution_count": 22,
   "metadata": {},
   "outputs": [
    {
     "name": "stdout",
     "output_type": "stream",
     "text": [
      "Mean Fare paid by surviving and non-surviving passengers\n"
     ]
    },
    {
     "data": {
      "text/html": [
       "<div>\n",
       "<style>\n",
       "    .dataframe thead tr:only-child th {\n",
       "        text-align: right;\n",
       "    }\n",
       "\n",
       "    .dataframe thead th {\n",
       "        text-align: left;\n",
       "    }\n",
       "\n",
       "    .dataframe tbody tr th {\n",
       "        vertical-align: top;\n",
       "    }\n",
       "</style>\n",
       "<table border=\"1\" class=\"dataframe\">\n",
       "  <thead>\n",
       "    <tr style=\"text-align: right;\">\n",
       "      <th></th>\n",
       "      <th>Fare</th>\n",
       "    </tr>\n",
       "    <tr>\n",
       "      <th>Survived</th>\n",
       "      <th></th>\n",
       "    </tr>\n",
       "  </thead>\n",
       "  <tbody>\n",
       "    <tr>\n",
       "      <th>0</th>\n",
       "      <td>22.117887</td>\n",
       "    </tr>\n",
       "    <tr>\n",
       "      <th>1</th>\n",
       "      <td>48.395408</td>\n",
       "    </tr>\n",
       "  </tbody>\n",
       "</table>\n",
       "</div>"
      ],
      "text/plain": [
       "               Fare\n",
       "Survived           \n",
       "0         22.117887\n",
       "1         48.395408"
      ]
     },
     "execution_count": 22,
     "metadata": {},
     "output_type": "execute_result"
    }
   ],
   "source": [
    "# Fill missing values with median Fare\n",
    "for df in datasets:\n",
    "    df.loc[df.Fare.isnull(),'Fare'] = df.Fare.median()\n",
    "    \n",
    "# Mean fare paid by surviving passengers\n",
    "print ('Mean Fare paid by surviving and non-surviving passengers')\n",
    "train_df[['Fare','Survived']].groupby('Survived').mean()"
   ]
  },
  {
   "cell_type": "markdown",
   "metadata": {},
   "source": [
    "Let's summarize the Fares in the `train` and `test` datasets"
   ]
  },
  {
   "cell_type": "code",
   "execution_count": 23,
   "metadata": {},
   "outputs": [
    {
     "data": {
      "text/html": [
       "<div>\n",
       "<style>\n",
       "    .dataframe thead tr:only-child th {\n",
       "        text-align: right;\n",
       "    }\n",
       "\n",
       "    .dataframe thead th {\n",
       "        text-align: left;\n",
       "    }\n",
       "\n",
       "    .dataframe tbody tr th {\n",
       "        vertical-align: top;\n",
       "    }\n",
       "</style>\n",
       "<table border=\"1\" class=\"dataframe\">\n",
       "  <thead>\n",
       "    <tr style=\"text-align: right;\">\n",
       "      <th></th>\n",
       "      <th>Test</th>\n",
       "      <th>Train</th>\n",
       "    </tr>\n",
       "  </thead>\n",
       "  <tbody>\n",
       "    <tr>\n",
       "      <th>count</th>\n",
       "      <td>418.000000</td>\n",
       "      <td>891.000000</td>\n",
       "    </tr>\n",
       "    <tr>\n",
       "      <th>mean</th>\n",
       "      <td>35.576535</td>\n",
       "      <td>32.204208</td>\n",
       "    </tr>\n",
       "    <tr>\n",
       "      <th>std</th>\n",
       "      <td>55.850103</td>\n",
       "      <td>49.693429</td>\n",
       "    </tr>\n",
       "    <tr>\n",
       "      <th>min</th>\n",
       "      <td>0.000000</td>\n",
       "      <td>0.000000</td>\n",
       "    </tr>\n",
       "    <tr>\n",
       "      <th>25%</th>\n",
       "      <td>7.895800</td>\n",
       "      <td>7.910400</td>\n",
       "    </tr>\n",
       "    <tr>\n",
       "      <th>50%</th>\n",
       "      <td>14.454200</td>\n",
       "      <td>14.454200</td>\n",
       "    </tr>\n",
       "    <tr>\n",
       "      <th>75%</th>\n",
       "      <td>31.471875</td>\n",
       "      <td>31.000000</td>\n",
       "    </tr>\n",
       "    <tr>\n",
       "      <th>max</th>\n",
       "      <td>512.329200</td>\n",
       "      <td>512.329200</td>\n",
       "    </tr>\n",
       "  </tbody>\n",
       "</table>\n",
       "</div>"
      ],
      "text/plain": [
       "             Test       Train\n",
       "count  418.000000  891.000000\n",
       "mean    35.576535   32.204208\n",
       "std     55.850103   49.693429\n",
       "min      0.000000    0.000000\n",
       "25%      7.895800    7.910400\n",
       "50%     14.454200   14.454200\n",
       "75%     31.471875   31.000000\n",
       "max    512.329200  512.329200"
      ]
     },
     "execution_count": 23,
     "metadata": {},
     "output_type": "execute_result"
    }
   ],
   "source": [
    "pd.DataFrame({'Train':train_df.Fare.describe(),\n",
    "              'Test':test_df.Fare.describe()})"
   ]
  },
  {
   "cell_type": "markdown",
   "metadata": {},
   "source": [
    "Let's transform the `Fare` variable into a categorical field based on the quartiles. Given the the `Test` and `Train` datasets have similar quartiles, we will define the brackets as follows:"
   ]
  },
  {
   "cell_type": "code",
   "execution_count": 24,
   "metadata": {},
   "outputs": [
    {
     "data": {
      "text/plain": [
       "[0-8)      241\n",
       "[15-32)    223\n",
       "[8-15)     216\n",
       "[32+)      211\n",
       "Name: Fare_bracket, dtype: int64"
      ]
     },
     "execution_count": 24,
     "metadata": {},
     "output_type": "execute_result"
    }
   ],
   "source": [
    "for df in datasets:\n",
    "    df['Fare_bracket'] = pd.cut(df['Fare'],[0,8,15,32,550],\n",
    "                                labels =['[0-8)','[8-15)','[15-32)','[32+)'], right = False)\n",
    "    \n",
    "train_df['Fare_bracket'].value_counts()"
   ]
  },
  {
   "cell_type": "code",
   "execution_count": 25,
   "metadata": {},
   "outputs": [
    {
     "data": {
      "image/png": "[encoded data removed]",
      "text/plain": [
       "<matplotlib.figure.Figure at 0x19dff9254e0>"
      ]
     },
     "metadata": {},
     "output_type": "display_data"
    }
   ],
   "source": [
    "plot_helper(train_df[['Fare_bracket','Survived']].groupby(['Fare_bracket']).mean(),\n",
    "            \"Fare_bracket vs Probabilty of Survival\", pct_survived)"
   ]
  },
  {
   "cell_type": "markdown",
   "metadata": {},
   "source": [
    "## 3.8. `Title`<a id=\"3.8.\"></a>\n",
    "\n",
    "Let us extract the titles from the names"
   ]
  },
  {
   "cell_type": "code",
   "execution_count": 26,
   "metadata": {
    "scrolled": true
   },
   "outputs": [
    {
     "data": {
      "text/html": [
       "<div>\n",
       "<style>\n",
       "    .dataframe thead tr:only-child th {\n",
       "        text-align: right;\n",
       "    }\n",
       "\n",
       "    .dataframe thead th {\n",
       "        text-align: left;\n",
       "    }\n",
       "\n",
       "    .dataframe tbody tr th {\n",
       "        vertical-align: top;\n",
       "    }\n",
       "</style>\n",
       "<table border=\"1\" class=\"dataframe\">\n",
       "  <thead>\n",
       "    <tr style=\"text-align: right;\">\n",
       "      <th></th>\n",
       "      <th>Train</th>\n",
       "      <th>Test</th>\n",
       "    </tr>\n",
       "  </thead>\n",
       "  <tbody>\n",
       "    <tr>\n",
       "      <th>Mr</th>\n",
       "      <td>517.0</td>\n",
       "      <td>240.0</td>\n",
       "    </tr>\n",
       "    <tr>\n",
       "      <th>Miss</th>\n",
       "      <td>182.0</td>\n",
       "      <td>78.0</td>\n",
       "    </tr>\n",
       "    <tr>\n",
       "      <th>Mrs</th>\n",
       "      <td>125.0</td>\n",
       "      <td>72.0</td>\n",
       "    </tr>\n",
       "    <tr>\n",
       "      <th>Master</th>\n",
       "      <td>40.0</td>\n",
       "      <td>21.0</td>\n",
       "    </tr>\n",
       "    <tr>\n",
       "      <th>Dr</th>\n",
       "      <td>7.0</td>\n",
       "      <td>1.0</td>\n",
       "    </tr>\n",
       "    <tr>\n",
       "      <th>Rev</th>\n",
       "      <td>6.0</td>\n",
       "      <td>2.0</td>\n",
       "    </tr>\n",
       "    <tr>\n",
       "      <th>Major</th>\n",
       "      <td>2.0</td>\n",
       "      <td>NaN</td>\n",
       "    </tr>\n",
       "    <tr>\n",
       "      <th>Col</th>\n",
       "      <td>2.0</td>\n",
       "      <td>2.0</td>\n",
       "    </tr>\n",
       "    <tr>\n",
       "      <th>Mlle</th>\n",
       "      <td>2.0</td>\n",
       "      <td>NaN</td>\n",
       "    </tr>\n",
       "    <tr>\n",
       "      <th>Mme</th>\n",
       "      <td>1.0</td>\n",
       "      <td>NaN</td>\n",
       "    </tr>\n",
       "    <tr>\n",
       "      <th>Ms</th>\n",
       "      <td>1.0</td>\n",
       "      <td>1.0</td>\n",
       "    </tr>\n",
       "    <tr>\n",
       "      <th>Capt</th>\n",
       "      <td>1.0</td>\n",
       "      <td>NaN</td>\n",
       "    </tr>\n",
       "    <tr>\n",
       "      <th>Lady</th>\n",
       "      <td>1.0</td>\n",
       "      <td>NaN</td>\n",
       "    </tr>\n",
       "    <tr>\n",
       "      <th>Jonkheer</th>\n",
       "      <td>1.0</td>\n",
       "      <td>NaN</td>\n",
       "    </tr>\n",
       "    <tr>\n",
       "      <th>Don</th>\n",
       "      <td>1.0</td>\n",
       "      <td>NaN</td>\n",
       "    </tr>\n",
       "    <tr>\n",
       "      <th>Countess</th>\n",
       "      <td>1.0</td>\n",
       "      <td>NaN</td>\n",
       "    </tr>\n",
       "    <tr>\n",
       "      <th>Sir</th>\n",
       "      <td>1.0</td>\n",
       "      <td>NaN</td>\n",
       "    </tr>\n",
       "    <tr>\n",
       "      <th>Dona</th>\n",
       "      <td>NaN</td>\n",
       "      <td>1.0</td>\n",
       "    </tr>\n",
       "  </tbody>\n",
       "</table>\n",
       "</div>"
      ],
      "text/plain": [
       "          Train   Test\n",
       "Mr        517.0  240.0\n",
       "Miss      182.0   78.0\n",
       "Mrs       125.0   72.0\n",
       "Master     40.0   21.0\n",
       "Dr          7.0    1.0\n",
       "Rev         6.0    2.0\n",
       "Major       2.0    NaN\n",
       "Col         2.0    2.0\n",
       "Mlle        2.0    NaN\n",
       "Mme         1.0    NaN\n",
       "Ms          1.0    1.0\n",
       "Capt        1.0    NaN\n",
       "Lady        1.0    NaN\n",
       "Jonkheer    1.0    NaN\n",
       "Don         1.0    NaN\n",
       "Countess    1.0    NaN\n",
       "Sir         1.0    NaN\n",
       "Dona        NaN    1.0"
      ]
     },
     "execution_count": 26,
     "metadata": {},
     "output_type": "execute_result"
    }
   ],
   "source": [
    "#Extract the titles\n",
    "for df in datasets:\n",
    "    df['Title'] = df['Name'].str.extract(' ([A-Za-z]+)\\.', expand=False)\n",
    "    \n",
    "# Review the top values of Titles in both datasets. Note that 'Dona' appears only in test_df\n",
    "pd.concat([train_df.Title.value_counts(), test_df.Title.value_counts()], \n",
    "              keys=['Train','Test'],axis = 1).sort_values('Train', ascending=False)"
   ]
  },
  {
   "cell_type": "markdown",
   "metadata": {},
   "source": [
    "Most of the samples have titles of Mr, Miss, Mrs, or Master. Therefore we will group the other titles as 'Other'"
   ]
  },
  {
   "cell_type": "code",
   "execution_count": 27,
   "metadata": {
    "collapsed": true
   },
   "outputs": [],
   "source": [
    "for df in datasets:\n",
    "    df['Title'] = df['Title'].replace('Mme','Mrs')\n",
    "    df['Title'] = df['Title'].replace('Ms','Miss')\n",
    "    df['Title'] = df['Title'].replace('Mlle','Miss')\n",
    "    \n",
    "    #group other titles as 'Other'\n",
    "    df['Title'] = df['Title'].replace(['Capt','Col','Countess','Don','Dona','Dr',\n",
    "                                       'Jonkheer','Lady','Major','Rev','Sir'], 'Other')"
   ]
  },
  {
   "cell_type": "code",
   "execution_count": 28,
   "metadata": {
    "scrolled": false
   },
   "outputs": [
    {
     "data": {
      "image/png": "[encoded data removed]",
      "text/plain": [
       "<matplotlib.figure.Figure at 0x19dffa02908>"
      ]
     },
     "metadata": {},
     "output_type": "display_data"
    }
   ],
   "source": [
    "plot_helper(train_df[['Title','Survived']].groupby(['Title']).mean(),\n",
    "            \"Title vs Probabilty of Survival\", pct_survived)"
   ]
  },
  {
   "cell_type": "markdown",
   "metadata": {},
   "source": [
    "----\n",
    "# 4. Machine Learning Model<a id=\"4.\"></a>\n",
    "\n",
    "Now that we have good understanding of the data, let us find a classifier that best fits this data. "
   ]
  },
  {
   "cell_type": "code",
   "execution_count": 29,
   "metadata": {
    "collapsed": true
   },
   "outputs": [],
   "source": [
    "clf_scores = {}"
   ]
  },
  {
   "cell_type": "markdown",
   "metadata": {},
   "source": [
    "## 4.1. Create feature and response list<a id=\"4.1.\"></a>\n",
    "\n",
    "1) Let us **One Hot Encode catagorical features** and create new `train_ML` and `test_ML` datasets:"
   ]
  },
  {
   "cell_type": "code",
   "execution_count": 30,
   "metadata": {
    "collapsed": true,
    "scrolled": true
   },
   "outputs": [],
   "source": [
    "cat_features = ['Age_bracket','Pclass','Embarked','Deck','FamilySize','Fare_bracket','Title']\n",
    "train_ML = pd.get_dummies(train_df, columns = cat_features)\n",
    "test_ML = pd.get_dummies(test_df, columns = cat_features)"
   ]
  },
  {
   "cell_type": "markdown",
   "metadata": {},
   "source": [
    "2) Drop unecessary features:\n",
    "\n",
    "Note: `test_df` does not have any samples with `Deck` = T. Given that there was only sample with `Deck` = T, we will drop `Deck_T` from the `train_df` while building our models (for the sake of simplicity)."
   ]
  },
  {
   "cell_type": "code",
   "execution_count": 31,
   "metadata": {
    "scrolled": true
   },
   "outputs": [
    {
     "name": "stdout",
     "output_type": "stream",
     "text": [
      "Index(['Survived', 'Sex', 'Age_bracket_[0-10)', 'Age_bracket_[10-20)',\n",
      "       'Age_bracket_[20-30)', 'Age_bracket_[30-40)', 'Age_bracket_[40-50)',\n",
      "       'Age_bracket_[50-60)', 'Age_bracket_[60+)', 'Pclass_1', 'Pclass_2',\n",
      "       'Pclass_3', 'Embarked_C', 'Embarked_Q', 'Embarked_S', 'Deck_A',\n",
      "       'Deck_B', 'Deck_C', 'Deck_D', 'Deck_E', 'Deck_F', 'Deck_G', 'Deck_U',\n",
      "       'FamilySize_1', 'FamilySize_2', 'FamilySize_3', 'FamilySize_4',\n",
      "       'FamilySize_5+', 'Fare_bracket_[0-8)', 'Fare_bracket_[8-15)',\n",
      "       'Fare_bracket_[15-32)', 'Fare_bracket_[32+)', 'Title_Master',\n",
      "       'Title_Miss', 'Title_Mr', 'Title_Mrs', 'Title_Other'],\n",
      "      dtype='object')\n",
      "Index(['Sex', 'Age_bracket_[0-10)', 'Age_bracket_[10-20)',\n",
      "       'Age_bracket_[20-30)', 'Age_bracket_[30-40)', 'Age_bracket_[40-50)',\n",
      "       'Age_bracket_[50-60)', 'Age_bracket_[60+)', 'Pclass_1', 'Pclass_2',\n",
      "       'Pclass_3', 'Embarked_C', 'Embarked_Q', 'Embarked_S', 'Deck_A',\n",
      "       'Deck_B', 'Deck_C', 'Deck_D', 'Deck_E', 'Deck_F', 'Deck_G', 'Deck_U',\n",
      "       'FamilySize_1', 'FamilySize_2', 'FamilySize_3', 'FamilySize_4',\n",
      "       'FamilySize_5+', 'Fare_bracket_[0-8)', 'Fare_bracket_[8-15)',\n",
      "       'Fare_bracket_[15-32)', 'Fare_bracket_[32+)', 'Title_Master',\n",
      "       'Title_Miss', 'Title_Mr', 'Title_Mrs', 'Title_Other'],\n",
      "      dtype='object')\n"
     ]
    }
   ],
   "source": [
    "features_to_drop = ['PassengerId', 'Name', 'SibSp', 'Parch', 'Ticket', 'Cabin','Fare','Age']\n",
    "train_ML.drop(features_to_drop, axis = 1, inplace = True)\n",
    "test_ML.drop(features_to_drop, axis = 1, inplace = True)\n",
    "\n",
    "train_ML.drop('Deck_T', axis = 1, inplace = True)\n",
    "\n",
    "print(train_ML.columns)\n",
    "print(test_ML.columns)"
   ]
  },
  {
   "cell_type": "markdown",
   "metadata": {},
   "source": [
    "3) Next, we will drop the following **Dummy Variables** in the datasets:\n",
    "* `Age_bracket_[60+)`\n",
    "* `Pclass_1`\n",
    "* `Embarked_C`\n",
    "* `Deck_U`\n",
    "* `FamilySize_5+`\n",
    "* `Fare_bracket_[32+)`\n",
    "* `Title_Other`\n",
    "   "
   ]
  },
  {
   "cell_type": "code",
   "execution_count": 32,
   "metadata": {},
   "outputs": [],
   "source": [
    "dummy_vars = ['Age_bracket_[60+)','Pclass_1','Embarked_C','Deck_U','FamilySize_5+',\n",
    "             'Fare_bracket_[32+)','Title_Other']\n",
    "\n",
    "train_ML.drop(dummy_vars, axis = 1, inplace = True)\n",
    "test_ML.drop(dummy_vars, axis = 1, inplace = True)"
   ]
  },
  {
   "cell_type": "markdown",
   "metadata": {},
   "source": [
    "4) Create **Feature and Response arrays**:"
   ]
  },
  {
   "cell_type": "code",
   "execution_count": 33,
   "metadata": {
    "collapsed": true
   },
   "outputs": [],
   "source": [
    "y = train_ML.Survived\n",
    "X = train_ML.drop('Survived', axis = 1)\n",
    "X_tst= test_ML"
   ]
  },
  {
   "cell_type": "markdown",
   "metadata": {},
   "source": [
    "5) Finally, let us calculate the **Null Accuracy** for the `test_df` dataframe: \n",
    "\n",
    "Null Accuracy is the accuracy that could be achieved by **always predicting the most frequent class** (which in this case is survived = 0). We can use this as a baseline to measure against our models."
   ]
  },
  {
   "cell_type": "code",
   "execution_count": 34,
   "metadata": {
    "scrolled": false
   },
   "outputs": [
    {
     "name": "stdout",
     "output_type": "stream",
     "text": [
      "Null Accuracy (survive = 0):  0.6161616161616161\n"
     ]
    }
   ],
   "source": [
    "null_accuracy =  1-y.mean()\n",
    "print ('Null Accuracy (survive = 0): ', null_accuracy)"
   ]
  },
  {
   "cell_type": "markdown",
   "metadata": {},
   "source": [
    "## 4.2. Logistic Regression<a id=\"4.2.\"></a>"
   ]
  },
  {
   "cell_type": "code",
   "execution_count": 35,
   "metadata": {
    "scrolled": false
   },
   "outputs": [
    {
     "name": "stdout",
     "output_type": "stream",
     "text": [
      "Mean Score:  0.830507604131\n"
     ]
    }
   ],
   "source": [
    "logreg = LogisticRegression()\n",
    "\n",
    "scores = cross_val_score(logreg, X, y, cv=10, scoring = 'accuracy')\n",
    "\n",
    "clf_scores['Logistic_Regression'] = scores.mean()\n",
    "print ('Mean Score: ', scores.mean())"
   ]
  },
  {
   "cell_type": "markdown",
   "metadata": {},
   "source": [
    "## 4.3. K-Nearest Neighbors<a id=\"4.3.\"></a>\n",
    "\n",
    "Let us use Gread_Search_CV to find the optimal number of neighbors `n_neighbors`:"
   ]
  },
  {
   "cell_type": "code",
   "execution_count": 36,
   "metadata": {},
   "outputs": [
    {
     "name": "stdout",
     "output_type": "stream",
     "text": [
      "0.821548821549\n",
      "{'n_neighbors': 20}\n",
      "KNeighborsClassifier(algorithm='auto', leaf_size=30, metric='minkowski',\n",
      "           metric_params=None, n_jobs=1, n_neighbors=20, p=2,\n",
      "           weights='uniform')\n"
     ]
    }
   ],
   "source": [
    "knn = KNeighborsClassifier()\n",
    "k_range = list(range (1,70))\n",
    "param_grid = dict(n_neighbors = k_range)\n",
    "\n",
    "grid = GridSearchCV(knn, param_grid, cv = 10, scoring = 'accuracy')\n",
    "grid.fit (X,y)\n",
    "\n",
    "# examine best model\n",
    "print (grid.best_score_)\n",
    "print (grid.best_params_)\n",
    "print (grid.best_estimator_)\n",
    "\n",
    "clf_scores['KNN'] = grid.best_score_"
   ]
  },
  {
   "cell_type": "markdown",
   "metadata": {
    "collapsed": true
   },
   "source": [
    "*Optional* - We could have also tried to find the optimal K value visually. However, Gird Search CV automitcally finds the best `n_neighbor` value, which is ~20 in this case"
   ]
  },
  {
   "cell_type": "code",
   "execution_count": 37,
   "metadata": {},
   "outputs": [
    {
     "data": {
      "text/plain": [
       "[<matplotlib.lines.Line2D at 0x19dff7a8be0>]"
      ]
     },
     "execution_count": 37,
     "metadata": {},
     "output_type": "execute_result"
    },
    {
     "data": {
      "image/png": "[encoded data removed]",
      "text/plain": [
       "<matplotlib.figure.Figure at 0x19dff8043c8>"
      ]
     },
     "metadata": {},
     "output_type": "display_data"
    }
   ],
   "source": [
    "k_range = range (1,70)\n",
    "k_scores = []\n",
    "for n in k_range:\n",
    "    knn = KNeighborsClassifier (n_neighbors = n)\n",
    "    scores = cross_val_score(knn, X,y,cv=10, scoring ='accuracy')\n",
    "    k_scores.append(scores.mean())\n",
    "    \n",
    "plt.plot(k_range, k_scores)"
   ]
  },
  {
   "cell_type": "markdown",
   "metadata": {},
   "source": [
    "## 4.4. Decision Trees<a id=\"4.4.\"></a>"
   ]
  },
  {
   "cell_type": "code",
   "execution_count": 38,
   "metadata": {},
   "outputs": [
    {
     "name": "stdout",
     "output_type": "stream",
     "text": [
      "Mean Score:  0.799209227102\n"
     ]
    }
   ],
   "source": [
    "tree = DecisionTreeClassifier()\n",
    "scores = cross_val_score(tree, X, y, cv=10, scoring = 'accuracy')\n",
    "\n",
    "print ('Mean Score: ', scores.mean())\n",
    "clf_scores['Decision_Tree'] = scores.mean()"
   ]
  },
  {
   "cell_type": "markdown",
   "metadata": {
    "collapsed": true
   },
   "source": [
    "## 4.5. SVC<a id=\"4.5.\"></a>"
   ]
  },
  {
   "cell_type": "markdown",
   "metadata": {
    "collapsed": true,
    "scrolled": true
   },
   "source": [
    "Let us use Grid Search CV to determine the best `C` and `degree` parameters for SVC"
   ]
  },
  {
   "cell_type": "code",
   "execution_count": 39,
   "metadata": {
    "scrolled": true
   },
   "outputs": [
    {
     "name": "stdout",
     "output_type": "stream",
     "text": [
      "0.833894500561\n",
      "{'C': 2.6000000000000001, 'degree': 0}\n",
      "SVC(C=2.6000000000000001, cache_size=200, class_weight=None, coef0=0.0,\n",
      "  decision_function_shape='ovr', degree=0, gamma='auto', kernel='rbf',\n",
      "  max_iter=-1, probability=False, random_state=None, shrinking=True,\n",
      "  tol=0.001, verbose=False)\n"
     ]
    }
   ],
   "source": [
    "svc = SVC()\n",
    "c_range = list(np.arange (0.1,5.1,0.1))\n",
    "degree_range = list(range(0,5))\n",
    "\n",
    "param_grid = dict(C = c_range, degree = degree_range)\n",
    "grid = GridSearchCV(svc, param_grid, cv=10, scoring ='accuracy')\n",
    "grid.fit(X,y)\n",
    "\n",
    "print (grid.best_score_)\n",
    "print (grid.best_params_)\n",
    "print (grid.best_estimator_)\n",
    "\n",
    "clf_scores['SVC'] = grid.best_score_"
   ]
  },
  {
   "cell_type": "markdown",
   "metadata": {},
   "source": [
    "## 4.6. Random Forest Classifier<a id=\"4.6.\"></a>"
   ]
  },
  {
   "cell_type": "code",
   "execution_count": 40,
   "metadata": {},
   "outputs": [
    {
     "name": "stdout",
     "output_type": "stream",
     "text": [
      "Mean Score:  0.806974520486\n"
     ]
    }
   ],
   "source": [
    "rfc = RandomForestClassifier()\n",
    "scores = cross_val_score(rfc, X, y, cv=10, scoring = 'accuracy')\n",
    "\n",
    "print ('Mean Score: ', scores.mean())\n",
    "clf_scores['Random_Forest'] = scores.mean()"
   ]
  },
  {
   "cell_type": "markdown",
   "metadata": {},
   "source": [
    "# 5. Evaluation<a id=\"5.\"></a>\n",
    "\n",
    "Let's review all the (mean) scores of each classifier"
   ]
  },
  {
   "cell_type": "code",
   "execution_count": 41,
   "metadata": {
    "scrolled": true
   },
   "outputs": [
    {
     "data": {
      "image/png": "[encoded data removed]",
      "text/plain": [
       "<matplotlib.figure.Figure at 0x19dffa13358>"
      ]
     },
     "metadata": {},
     "output_type": "display_data"
    }
   ],
   "source": [
    "ax = pd.Series(data=clf_scores).sort_values().plot(kind = \"barh\", figsize =(7,5),\n",
    "                                     xlim=(0.0,1.0), label ='Accuracy')\n",
    "ax.set_title ('Classifier Accuracy')\n",
    "ax.axvline(x=null_accuracy, color ='g',linestyle='--', label='Null Accuracy')\n",
    "ax.legend(bbox_to_anchor=(1.05, 1), loc=2, borderaxespad=0.)\n",
    "\n",
    "for p in ax.patches:\n",
    "    ax.annotate (str(round(p.get_width(),3)),\n",
    "                 xy=(p.get_x()+0.02, p.get_y()+p.get_height()/2.5),\n",
    "                 color = \"white\" )\n",
    "plt.show()"
   ]
  },
  {
   "cell_type": "markdown",
   "metadata": {},
   "source": [
    "Best model is **SVC with a mean accuracy score of 0.834**."
   ]
  },
  {
   "cell_type": "markdown",
   "metadata": {},
   "source": [
    "### Prediction"
   ]
  },
  {
   "cell_type": "markdown",
   "metadata": {},
   "source": [
    "Let us use SVC classifier with C = 2.6, degree = 0) to predict our data:"
   ]
  },
  {
   "cell_type": "code",
   "execution_count": 42,
   "metadata": {},
   "outputs": [],
   "source": [
    "svc = SVC (C=2.60, degree = 0)\n",
    "svc.fit(X,y)\n",
    "y_pred = svc.predict(X_tst)"
   ]
  },
  {
   "cell_type": "code",
   "execution_count": 43,
   "metadata": {
    "collapsed": true
   },
   "outputs": [],
   "source": [
    "submission = pd.DataFrame({'PassengerId':test_df['PassengerId'],\n",
    "    'Survived':y_pred})\n",
    "\n",
    "submission.to_csv('./submission_svc.csv', index=False)"
   ]
  },
  {
   "cell_type": "markdown",
   "metadata": {},
   "source": [
    "----\n",
    "I hope you enjoyed the analysis! This notebook was created by [Jay Rajasekharan](https://www.linkedin.com/in/jayrajasekharan). Feel free to contact me if you have any questions."
   ]
  }
 ],
 "metadata": {
  "kernelspec": {
   "display_name": "Python 3",
   "language": "python",
   "name": "python3"
  },
  "language_info": {
   "codemirror_mode": {
    "name": "ipython",
    "version": 3
   },
   "file_extension": ".py",
   "mimetype": "text/x-python",
   "name": "python",
   "nbconvert_exporter": "python",
   "pygments_lexer": "ipython3",
   "version": "3.6.2"
  }
 },
 "nbformat": 4,
 "nbformat_minor": 2
}
